{
 "cells": [
  {
   "cell_type": "code",
   "execution_count": 1,
   "id": "391d7a48ad463ec3",
   "metadata": {},
   "outputs": [],
   "source": [
    "import numpy as np\n",
    "import timeit\n",
    "import networkx as nx\n",
    "import importlib.util\n",
    "import matplotlib.pyplot as plt\n",
    "\n",
    "\n",
    "import numpy.linalg as la\n",
    "import scipy\n"
   ]
  },
  {
   "cell_type": "markdown",
   "id": "4b4e6b007eb4c6f0",
   "metadata": {},
   "source": [
    "## Modificacion del codigo en busqueda de parelelizar\n",
    "\n",
    "### Primera Idea \n",
    "Consiste en reiniciar R en cada iteracion (sin memoria durante la iteracion), y calcular cada fila de X de forma independiente utilizando la misma R y X. \n",
    "En cada iteracion se calcula $R = X^T . X$"
   ]
  },
  {
   "cell_type": "code",
   "execution_count": 2,
   "id": "initial_id",
   "metadata": {
    "collapsed": true
   },
   "outputs": [],
   "source": [
    "def coordinate_descent_MODIFICADO_1(A,d, max_iteraciones = None, X=None,tol=1e-5, ):\n",
    "    n=A.shape[0]\n",
    "    M = np.ones(n) - np.eye(n)\n",
    "    if X is None:\n",
    "        X = np.random.rand(n,d)\n",
    "    else:\n",
    "        X = X.copy()\n",
    "        \n",
    "    errores = []\n",
    "\n",
    "    fold = -1\n",
    "    iter = 0;\n",
    "    while ( (max_iteraciones is None or iter < max_iteraciones) and abs((fold - cost_function(A, X, M))/fold) >tol):\n",
    "        \n",
    "        # Reinicio la R en cada iteracion, como si el metodo comenzara desde X\n",
    "        R = X.T@X\n",
    "        print(\"Iteracion: \" + str(iter) + \" | Costo: \" + str(fold) + \" | norma R: \" + str(la.norm(R)))\n",
    "\n",
    "        X_s = X.copy()\n",
    "\n",
    "        fold = cost_function(A, X, M)\n",
    "        \n",
    "        for i in range(n):\n",
    "            #Cada R (en este caso R2) comienza en cada iteracion desde el inicio\n",
    "            R2 = R.copy()\n",
    "            k=X[i,:][np.newaxis] \n",
    "            R2 -= k.T@k\n",
    "            X_s[i,:] = solve_linear_system(R2,(A[i,:]@X).T,X[i,:])\n",
    "            # No vuelvo a tocar R, ya que no se como hacer el merge y en este metodo lo recalculo\n",
    "\n",
    "        X = X_s.copy()\n",
    "        errores = errores + [abs((fold - cost_function(A, X, M))/fold)]\n",
    "        iter += 1\n",
    "    return (X, errores)"
   ]
  },
  {
   "cell_type": "code",
   "execution_count": 4,
   "id": "f2dadf8a",
   "metadata": {},
   "outputs": [],
   "source": [
    "p1 = [[0.5, 0.2],\n",
    "      [0.2, 0.5]]\n",
    "d=80\n",
    "n_list = [1800, 1200]\n",
    "\n",
    "nt=np.sum(n_list)\n",
    "g = nx.stochastic_block_model(n_list,p1)\n",
    "A_original = nx.to_numpy_array(g)\n",
    "M_original = np.ones(nt) - np.eye(nt)\n",
    "X_original = np.random.rand(A_original.shape[0],d)\n"
   ]
  },
  {
   "cell_type": "code",
   "execution_count": 5,
   "id": "b2c2cb5dcaf2b865",
   "metadata": {},
   "outputs": [
    {
     "ename": "NameError",
     "evalue": "name 'n' is not defined",
     "output_type": "error",
     "traceback": [
      "\u001b[0;31m---------------------------------------------------------------------------\u001b[0m",
      "\u001b[0;31mNameError\u001b[0m                                 Traceback (most recent call last)",
      "Cell \u001b[0;32mIn[5], line 1\u001b[0m\n\u001b[0;32m----> 1\u001b[0m nt\u001b[38;5;241m=\u001b[39mnp\u001b[38;5;241m.\u001b[39msum(\u001b[43mn\u001b[49m)\n\u001b[1;32m      2\u001b[0m g \u001b[38;5;241m=\u001b[39m nx\u001b[38;5;241m.\u001b[39mstochastic_block_model(n,p1)\n\u001b[1;32m      3\u001b[0m A \u001b[38;5;241m=\u001b[39m nx\u001b[38;5;241m.\u001b[39mto_numpy_array(g)\n",
      "\u001b[0;31mNameError\u001b[0m: name 'n' is not defined"
     ]
    }
   ],
   "source": [
    "nt=np.sum(n)\n",
    "g = nx.stochastic_block_model(n,p1)\n",
    "A = nx.to_numpy_array(g)\n",
    "M = np.ones(nt) - np.eye(nt)\n",
    "\n",
    "print(\"Running Coordinate descent MODIFICACION 1\")\n",
    "start_cd = timeit.default_timer()\n",
    "(X_cd_S, errores_M1) = coordinate_descent_MODIFICADO_1(A,d, 50)\n",
    "stop_cd = timeit.default_timer()\n",
    "time_cd = round(stop_cd-start_cd,3)\n",
    "print(\"Done in \",time_cd,\" seconds.\\n\")\n",
    "\n",
    "print(\"Coordinate descent MODIFICADO 1   \",time_cd,\"\\t\\t\", cost_function(A,X_cd_S,M))\n",
    "plt.plot(errores_M1)\n"
   ]
  },
  {
   "cell_type": "markdown",
   "id": "e25a070f8c579eec",
   "metadata": {},
   "source": [
    "Como se puede observar, no se puede ejecutar solve_linear_system(R,(A[i,:]@X).T,X[i,:]), matriz mal condicionada.\n",
    "\n",
    "Luego de la reunion con Ernesto el dia Jueves 18/4 se propuso otra idea, de todas formas insito aun en la primera a ver si podemos conseguir resultados."
   ]
  },
  {
   "cell_type": "markdown",
   "id": "2bb77bf177710373",
   "metadata": {},
   "source": [
    "### Segunda idea\n",
    "\n",
    "Intentemos lo mismo que en la idea original, pero actualizando R recien al final de cada iteracion. Donde actualizo R una vez que tengo la nueva iteracion de X calculado"
   ]
  },
  {
   "cell_type": "code",
   "execution_count": null,
   "id": "33816eee6e23da26",
   "metadata": {},
   "outputs": [],
   "source": [
    "def coordinate_descent_MODIFICADO_2(A,d,max_iteraciones,X=None,tol=1e-5):\n",
    "    n=A.shape[0]\n",
    "    M = np.ones(n) - np.eye(n)\n",
    "    if X is None:\n",
    "        X = np.random.rand(n,d)\n",
    "    else:\n",
    "        X = X.copy()\n",
    "    \n",
    "    \n",
    "    errores = []\n",
    "\n",
    "    R = X.T@X \n",
    "\n",
    "    fold = -1\n",
    "    iter = 0\n",
    "    \n",
    "    while ((max_iteraciones is None or iter < max_iteraciones) and abs((fold - cost_function(A, X, M))/fold) >tol):\n",
    "\n",
    "        print(iter)\n",
    "        X_s = X.copy()\n",
    "        fold = cost_function(A, X, M)\n",
    "        print(\"Iteracion: \" + str(iter) + \" | Costo: \" + str(fold) + \" | norma R: \" + str(la.norm(R)))\n",
    "        for i in range(n):\n",
    "            R2 = R.copy()\n",
    "            k=X[i,:][np.newaxis] #(*1)\n",
    "            R2 -= k.T@k\n",
    "            X_s[i,:] = solve_linear_system(R2,(A[i,:]@X).T,X[i,:])\n",
    "\n",
    "        \n",
    "        # Vuelvo a aplicar los cambios de la linea (*1), pero utilizando la iteracion anterior\n",
    "        for i in range(n):\n",
    "            k=X[i,:][np.newaxis]\n",
    "            R -= k.T@k\n",
    "\n",
    "        X = X_s.copy()\n",
    "\n",
    "        # Aplico cambios R pero ahora con la X totalmente calculada en el paso anterior\n",
    "        for i in range(n):\n",
    "            k=X[i,:][np.newaxis]\n",
    "            R += k.T@k       \n",
    "        \n",
    "        # Calculo el error relativo\n",
    "        errores = errores + [abs((fold - cost_function(A, X, M))/fold)]\n",
    "\n",
    "        iter+= 1\n",
    "\n",
    "    return (X, errores)"
   ]
  },
  {
   "cell_type": "code",
   "execution_count": null,
   "id": "b6ce2609f83b5815",
   "metadata": {},
   "outputs": [],
   "source": [
    "nt=np.sum(n)\n",
    "g = nx.stochastic_block_model(n,p1)\n",
    "A = nx.to_numpy_array(g)\n",
    "M = np.ones(nt) - np.eye(nt)\n",
    "\n",
    "print(\"Running Coordinate descent Modificado 2\")\n",
    "start_cd = timeit.default_timer()\n",
    "(X_cd_S, errores) = coordinate_descent_MODIFICADO_2(A,d,50)\n",
    "stop_cd = timeit.default_timer()\n",
    "time_cd = round(stop_cd-start_cd,3)\n",
    "print(\"Done in \",time_cd,\" seconds.\\n\")\n",
    "\n",
    "print(\"Coordinate descent MODIFICADO 2   \",time_cd,\"\\t\\t\", cost_function(A,X_cd_S,M))\n",
    "plt.plot(errores)\n"
   ]
  }
 ],
 "metadata": {
  "kernelspec": {
   "display_name": "Python 3",
   "language": "python",
   "name": "python3"
  },
  "language_info": {
   "codemirror_mode": {
    "name": "ipython",
    "version": 3
   },
   "file_extension": ".py",
   "mimetype": "text/x-python",
   "name": "python",
   "nbconvert_exporter": "python",
   "pygments_lexer": "ipython3",
   "version": "3.11.6"
  }
 },
 "nbformat": 4,
 "nbformat_minor": 5
}
