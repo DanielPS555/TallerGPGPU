{
 "cells": [
  {
   "cell_type": "code",
   "execution_count": 2,
   "metadata": {
    "ExecuteTime": {
     "end_time": "2024-05-31T18:22:41.628805500Z",
     "start_time": "2024-05-31T18:22:40.579443100Z"
    }
   },
   "outputs": [],
   "source": [
    "import numpy as np\n",
    "import timeit\n",
    "import networkx as nx\n",
    "import importlib.util\n",
    "import matplotlib.pyplot as plt\n",
    "\n",
    "\n",
    "import numpy.linalg as la\n",
    "import scipy\n"
   ]
  },
  {
   "cell_type": "markdown",
   "metadata": {},
   "source": [
    "# Funcion \"Coordinate descent\"\n",
    "\n",
    "### Funciones auxiliares"
   ]
  },
  {
   "cell_type": "code",
   "execution_count": 3,
   "metadata": {
    "ExecuteTime": {
     "end_time": "2024-05-31T18:22:41.629806Z",
     "start_time": "2024-05-31T18:22:41.594804300Z"
    }
   },
   "outputs": [],
   "source": [
    "def cost_function(A,X,M):\n",
    "    \"\"\"\n",
    "    RDPG cost function ||(A-XX^T)*M||_F^2\n",
    "    where * is the entry-wise product.\n",
    "\n",
    "    Parameters\n",
    "    ----------\n",
    "    A : matrix nxn\n",
    "    X : matrix of embeddings\n",
    "    M : mask matrix nxn\n",
    "        \n",
    "    Returns\n",
    "    -------\n",
    "    value of ||(A-XX^T)*M||_F^2\n",
    "    \"\"\"\n",
    "    return 0.5*np.linalg.norm((A - X@X.T)*M,ord='fro')**2\n",
    "\n",
    "def solve_linear_system(A,b,xx):\n",
    "    \"\"\"\n",
    "    Linear system solver, used in several methods.\n",
    "    Should you use another method for solving linear systems, just change this function.\n",
    "    \n",
    "    Returns the solution of Ax=b\n",
    "    Parameters\n",
    "    ----------\n",
    "    A : matrix nxn\n",
    "    b : vector \n",
    "\n",
    "    Returns\n",
    "    -------\n",
    "    vector x\n",
    "        solution to Ax=b\n",
    "\n",
    "    \"\"\"\n",
    "    try:\n",
    "        result = scipy.linalg.solve(A,b)\n",
    "    except:\n",
    "        result = scipy.sparse.linalg.minres(A,b,xx)[0]    \n",
    "    return result"
   ]
  },
  {
   "cell_type": "markdown",
   "metadata": {},
   "source": [
    "### Funcion principal\n",
    "\n",
    "$min ||(A-XX^T)*M||_F^2$"
   ]
  },
  {
   "cell_type": "code",
   "execution_count": 4,
   "metadata": {
    "ExecuteTime": {
     "end_time": "2024-05-31T18:22:41.629806Z",
     "start_time": "2024-05-31T18:22:41.598314300Z"
    }
   },
   "outputs": [],
   "source": [
    "def coordinate_descent(A,d,X=None,tol=1e-5):\n",
    "\n",
    "    ## Modificado con los errores\n",
    "\n",
    "    n=A.shape[0]\n",
    "    M = np.ones(n) - np.eye(n)\n",
    "    if X is None:\n",
    "        X = np.random.rand(n,d)\n",
    "    else:\n",
    "        X = X.copy()\n",
    "    \n",
    "    R = X.T@X\n",
    "    fold = -1\n",
    "\n",
    "    errores = []\n",
    "\n",
    "    iter = 0\n",
    "    while (abs((fold - cost_function(A, X, M))/fold) >tol):\n",
    "\n",
    "        fold = cost_function(A, X, M)\n",
    "        for i in range(n):\n",
    "            k=X[i,:][np.newaxis]  #(fila i)^t . (fila i)\n",
    "            R -= k.T@k\n",
    "            X[i,:] = solve_linear_system(R,(A[i,:]@X).T,X[i,:])\n",
    "            k=X[i,:][np.newaxis]\n",
    "            R += k.T@k\n",
    "        err = abs((fold - cost_function(A, X, M))/fold)\n",
    "        errores = errores + [err]\n",
    "        print(\"Iteracion: \" + str(iter) + \" | Error relativo: \" + str(err) + \" | norma R: \" + str(la.norm(R)))\n",
    "        iter +=1\n",
    "    return (X, errores)"
   ]
  },
  {
   "cell_type": "markdown",
   "metadata": {},
   "source": [
    "### Ejemplo"
   ]
  },
  {
   "cell_type": "code",
   "execution_count": 5,
   "metadata": {
    "ExecuteTime": {
     "end_time": "2024-05-31T18:22:41.630806100Z",
     "start_time": "2024-05-31T18:22:41.603480800Z"
    }
   },
   "outputs": [
    {
     "name": "stdout",
     "output_type": "stream",
     "text": [
      "graspologic is not installed. Running the other methods.\n"
     ]
    }
   ],
   "source": [
    "gy=0\n",
    "if importlib.util.find_spec('graspologic') is None:\n",
    "    print(\"graspologic is not installed. Running the other methods.\")\n",
    "else:\n",
    "    gy=1\n",
    "    import graspologic as gy\n",
    "\n",
    "##%%\n",
    "def embed_scipy(A, K):\n",
    "    UA, SA, VAt = scipy.linalg.svd(A)\n",
    "    XA = UA[:,0:K].dot(np.diag(np.sqrt(SA[0:K])))    \n",
    "    return XA"
   ]
  },
  {
   "cell_type": "code",
   "execution_count": 6,
   "metadata": {
    "ExecuteTime": {
     "end_time": "2024-05-31T18:22:44.383731200Z",
     "start_time": "2024-05-31T18:22:41.696804200Z"
    }
   },
   "outputs": [],
   "source": [
    "p1 = [[0.5, 0.2],\n",
    "      [0.2, 0.5]]\n",
    "d=5\n",
    "n_list = [1800, 1200]\n",
    "\n",
    "nt=np.sum(n_list)\n",
    "g = nx.stochastic_block_model(n_list,p1)\n",
    "A_original = nx.to_numpy_array(g)\n",
    "M_original = np.ones(nt) - np.eye(nt)\n",
    "X_original = np.random.rand(A_original.shape[0],d)\n"
   ]
  },
  {
   "cell_type": "code",
   "execution_count": 7,
   "metadata": {
    "ExecuteTime": {
     "end_time": "2024-05-31T18:23:27.864596Z",
     "start_time": "2024-05-31T18:22:44.383731200Z"
    }
   },
   "outputs": [
    {
     "name": "stdout",
     "output_type": "stream",
     "text": [
      "Running Coordinate descent\n",
      "Iteracion: 0 | Error relativo: 0.7990312215376101 | norma R: 646.6918444020931\n",
      "Iteracion: 1 | Error relativo: 0.19986859479541422 | norma R: 1234.4625524394487\n",
      "Iteracion: 2 | Error relativo: 0.012954619655548736 | norma R: 1161.2802360968892\n",
      "Iteracion: 3 | Error relativo: 0.0006069044539347602 | norma R: 1161.4103201626463\n",
      "Iteracion: 4 | Error relativo: 0.00020262483519117584 | norma R: 1163.5207078941148\n",
      "Iteracion: 5 | Error relativo: 0.00012525556956720298 | norma R: 1163.5560489029137\n",
      "Iteracion: 6 | Error relativo: 8.620456124430082e-05 | norma R: 1163.5404905188595\n",
      "Iteracion: 7 | Error relativo: 6.208743280258402e-05 | norma R: 1163.5954553678434\n",
      "Iteracion: 8 | Error relativo: 4.599107764109269e-05 | norma R: 1163.6346784156613\n",
      "Iteracion: 9 | Error relativo: 3.480104007922728e-05 | norma R: 1163.6612290126288\n",
      "Iteracion: 10 | Error relativo: 2.6809676331763198e-05 | norma R: 1163.6819653137024\n",
      "Iteracion: 11 | Error relativo: 2.098832562452264e-05 | norma R: 1163.698421159054\n",
      "Iteracion: 12 | Error relativo: 1.6679997289237446e-05 | norma R: 1163.7115596248202\n",
      "Iteracion: 13 | Error relativo: 1.3447236652462695e-05 | norma R: 1163.7222130265573\n",
      "Iteracion: 14 | Error relativo: 1.0990292654229909e-05 | norma R: 1163.730978006228\n",
      "Iteracion: 15 | Error relativo: 9.099765321298092e-06 | norma R: 1163.7382832599742\n",
      "Done in  4.027  seconds.\n",
      "\n",
      "Running Scipy SVD\n",
      "Done in  64.117  seconds.\n",
      "\n",
      "Method                        Time (s) \t Cost function ||(A-XX^T)*M||_F^2\n",
      "---------------------------------------------------------------------\n",
      "Coordinate descent             4.027 \t\t 925539.765223776\n",
      "Scipy                          64.117 \t\t 940333.9628724566\n"
     ]
    },
    {
     "data": {
      "image/png": "[encoded data removed]",
      "text/plain": [
       "<Figure size 640x480 with 1 Axes>"
      ]
     },
     "metadata": {},
     "output_type": "display_data"
    }
   ],
   "source": [
    "A = A_original.copy()\n",
    "M = M_original.copy()\n",
    "X = X_original.copy()\n",
    "\n",
    "print(\"Running Coordinate descent\")\n",
    "start_cd = timeit.default_timer()\n",
    "(X_cd, errores) = coordinate_descent(A,d)\n",
    "stop_cd = timeit.default_timer()\n",
    "time_cd = round(stop_cd-start_cd,3)\n",
    "print(\"Done in \",time_cd,\" seconds.\\n\")\n",
    "\n",
    "print(\"Running Scipy SVD\")\n",
    "start_scipy = timeit.default_timer()\n",
    "X_scipy = embed_scipy(A,d)\n",
    "stop_scipy = timeit.default_timer()\n",
    "time_scipy = round(stop_scipy-start_scipy,3)\n",
    "print(\"Done in \",time_scipy,\" seconds.\\n\")\n",
    "\n",
    "if gy:\n",
    "    print(\"Running Gaspologic ASE\")\n",
    "    ase = gy.embed.AdjacencySpectralEmbed(n_components=d, diag_aug=True, algorithm='full')\n",
    "    start_gy = timeit.default_timer()\n",
    "    X_gy = ase.fit_transform(A)\n",
    "    stop_gy = timeit.default_timer()\n",
    "    time_gy = round(stop_gy-start_gy,3)\n",
    "    print(\"Done in \",time_gy,\" seconds.\\n\")\n",
    "\n",
    "##%%\n",
    "print(\"Method                        Time (s) \\t Cost function ||(A-XX^T)*M||_F^2\",)\n",
    "print(\"---------------------------------------------------------------------\",)\n",
    "print(\"Coordinate descent            \",time_cd,\"\\t\\t\", cost_function(A,X_cd,M))\n",
    "print(\"Scipy                         \",time_scipy,\"\\t\\t\", cost_function(A,X_scipy,M))\n",
    "if gy: print(\"Graspologic                   \",time_gy,\"\\t\\t\", cost_function(A,X_gy,M))\n",
    "\n",
    "plt.plot(errores)\n",
    "plt.yscale('log')\n",
    "x_star = X_cd"
   ]
  },
  {
   "cell_type": "markdown",
   "metadata": {},
   "source": [
    "### Intento de paralelizar filas de X\n"
   ]
  },
  {
   "cell_type": "code",
   "execution_count": 101,
   "metadata": {},
   "outputs": [],
   "source": [
    "import copy"
   ]
  },
  {
   "cell_type": "code",
   "execution_count": 139,
   "metadata": {},
   "outputs": [],
   "source": [
    "def coordinate_descent_random_filas(A,d,X=None,tol=1e-5):\n",
    "\n",
    "    ## Modificado con los errores\n",
    "\n",
    "    n=A.shape[0]\n",
    "    M = np.ones(n) - np.eye(n)\n",
    "    if X is None:\n",
    "        X = np.random.rand(n,d)\n",
    "    else:\n",
    "        X = X.copy()\n",
    "    \n",
    "    \n",
    "    fold = -1\n",
    "\n",
    "    errores = []\n",
    "    \n",
    "    iter = 0\n",
    "    while (abs((fold - cost_function(A, X, M))/fold) >tol):\n",
    "\n",
    "        fold = cost_function(A, X, M)\n",
    "        \n",
    "        corrs = random.sample(range(n), int(n/8))\n",
    "\n",
    "        R_o = X.T@X\n",
    "        X_acc =  copy.deepcopy(X)\n",
    "        \n",
    "        for i in corrs:\n",
    "            R = copy.deepcopy(R_o)\n",
    "            X_int =  copy.deepcopy(X)\n",
    "            k=X_int[i,:][np.newaxis]  #(fila i)^t . (fila i)\n",
    "            R -= k.T@k\n",
    "            X_acc[i,:] = solve_linear_system(R,(A[i,:]@X_int).T,X_int[i,:])\n",
    "            \n",
    "        X = X_acc\n",
    "        err = cost_function(A, X, M)\n",
    "        errores = errores + [err]\n",
    "        print(\"Iteracion: \" + str(iter) + \" | Error relativo: \" + str(err) + \" | norma R: \" + str(la.norm(R_o)))\n",
    "        iter +=1\n",
    "    return (X, errores)"
   ]
  },
  {
   "cell_type": "code",
   "execution_count": 140,
   "metadata": {},
   "outputs": [
    {
     "name": "stdout",
     "output_type": "stream",
     "text": [
      "Running Coordinate descent\n",
      "Iteracion: 0 | Error relativo: 4581765.134730115 | norma R: 4002.442111489593\n",
      "Iteracion: 1 | Error relativo: 3832706.6280905562 | norma R: 3541.1435948294425\n",
      "Iteracion: 2 | Error relativo: 3204001.073634875 | norma R: 3162.8697560599153\n",
      "Iteracion: 3 | Error relativo: 2737880.7189026223 | norma R: 2809.6586460326944\n",
      "Iteracion: 4 | Error relativo: 2363038.1121802633 | norma R: 2506.2568856631165\n",
      "Iteracion: 5 | Error relativo: 2091857.4259048298 | norma R: 2232.431728377303\n",
      "Iteracion: 6 | Error relativo: 1892033.8860315634 | norma R: 2005.9293075252815\n",
      "Iteracion: 7 | Error relativo: 1711844.800558861 | norma R: 1822.6637995134852\n",
      "Iteracion: 8 | Error relativo: 1589091.3682943303 | norma R: 1645.4780193854372\n",
      "Iteracion: 9 | Error relativo: 1484526.3972157582 | norma R: 1522.1830978172668\n",
      "Iteracion: 10 | Error relativo: 1401191.6100659037 | norma R: 1416.1286454838275\n",
      "Iteracion: 11 | Error relativo: 1328840.7167413877 | norma R: 1333.4428243423324\n",
      "Iteracion: 12 | Error relativo: 1271109.4486167815 | norma R: 1267.7507745431308\n",
      "Iteracion: 13 | Error relativo: 1225393.7292441325 | norma R: 1224.9013766455603\n",
      "Iteracion: 14 | Error relativo: 1193091.4630465803 | norma R: 1198.2563548617732\n",
      "Iteracion: 15 | Error relativo: 1139800.7508108288 | norma R: 1187.0864144488155\n",
      "Iteracion: 16 | Error relativo: 1110497.001726724 | norma R: 1141.0634916113029\n",
      "Iteracion: 17 | Error relativo: 1083946.1626140932 | norma R: 1132.459923726373\n",
      "Iteracion: 18 | Error relativo: 1057070.753001491 | norma R: 1129.9745246580576\n",
      "Iteracion: 19 | Error relativo: 1039037.896742467 | norma R: 1116.803645856761\n",
      "Iteracion: 20 | Error relativo: 1023233.1185472133 | norma R: 1119.9068150749752\n",
      "Iteracion: 21 | Error relativo: 1010468.8102982731 | norma R: 1120.4563096176366\n",
      "Iteracion: 22 | Error relativo: 999209.5142347547 | norma R: 1121.8801876900752\n",
      "Iteracion: 23 | Error relativo: 989599.42181858 | norma R: 1124.2788967480583\n",
      "Iteracion: 24 | Error relativo: 982244.0980741649 | norma R: 1130.2572782272018\n",
      "Iteracion: 25 | Error relativo: 976210.5922065002 | norma R: 1133.8901358487446\n",
      "Iteracion: 26 | Error relativo: 968992.1702345937 | norma R: 1135.335309248453\n",
      "Iteracion: 27 | Error relativo: 964345.6935052371 | norma R: 1136.6433001481444\n",
      "Iteracion: 28 | Error relativo: 960163.8576497887 | norma R: 1138.0223234682462\n",
      "Iteracion: 29 | Error relativo: 955992.4013761121 | norma R: 1142.4032344128434\n",
      "Iteracion: 30 | Error relativo: 952775.7396984518 | norma R: 1143.67975732365\n",
      "Iteracion: 31 | Error relativo: 950368.5614878801 | norma R: 1143.3438231624734\n",
      "Iteracion: 32 | Error relativo: 946468.9117673266 | norma R: 1146.7844213773665\n",
      "Iteracion: 33 | Error relativo: 944757.8979786264 | norma R: 1148.6336848864537\n",
      "Iteracion: 34 | Error relativo: 942860.7695534104 | norma R: 1148.6013882300213\n",
      "Iteracion: 35 | Error relativo: 940068.2590893225 | norma R: 1151.5329818724695\n",
      "Iteracion: 36 | Error relativo: 938584.8194052742 | norma R: 1151.9139473371115\n",
      "Iteracion: 37 | Error relativo: 937193.6148536575 | norma R: 1152.7555361026148\n",
      "Iteracion: 38 | Error relativo: 936699.0007272327 | norma R: 1155.6286099119643\n",
      "Iteracion: 39 | Error relativo: 935382.2510037072 | norma R: 1156.047945187685\n",
      "Iteracion: 40 | Error relativo: 935024.7311341534 | norma R: 1157.164592672411\n",
      "Iteracion: 41 | Error relativo: 934603.6811932344 | norma R: 1157.6830745542652\n",
      "Iteracion: 42 | Error relativo: 934269.380447156 | norma R: 1158.4466817191992\n",
      "Iteracion: 43 | Error relativo: 933108.53006572 | norma R: 1159.0505334715585\n",
      "Iteracion: 44 | Error relativo: 932388.7761465062 | norma R: 1158.4398626657025\n",
      "Iteracion: 45 | Error relativo: 932059.2838119082 | norma R: 1157.750575528719\n",
      "Iteracion: 46 | Error relativo: 931448.148543026 | norma R: 1158.5890114186611\n",
      "Iteracion: 47 | Error relativo: 931047.481171964 | norma R: 1159.7736880309744\n",
      "Iteracion: 48 | Error relativo: 930729.1619435374 | norma R: 1159.9839730209353\n",
      "Iteracion: 49 | Error relativo: 930650.9994258905 | norma R: 1160.3648581632272\n",
      "Iteracion: 50 | Error relativo: 930089.3505774487 | norma R: 1160.6041678161116\n",
      "Iteracion: 51 | Error relativo: 929160.455398698 | norma R: 1161.62920414662\n",
      "Iteracion: 52 | Error relativo: 928867.1976550036 | norma R: 1160.4546390978483\n",
      "Iteracion: 53 | Error relativo: 928603.4508176305 | norma R: 1161.1264615520308\n",
      "Iteracion: 54 | Error relativo: 927999.7408317346 | norma R: 1161.5248096526861\n",
      "Iteracion: 55 | Error relativo: 927674.751844938 | norma R: 1161.9752744657897\n",
      "Iteracion: 56 | Error relativo: 927640.4508301006 | norma R: 1162.5975833680006\n",
      "Iteracion: 57 | Error relativo: 927598.051558795 | norma R: 1162.6481227917507\n",
      "Iteracion: 58 | Error relativo: 927320.1429802598 | norma R: 1162.7459381789595\n",
      "Iteracion: 59 | Error relativo: 927293.0216416483 | norma R: 1163.1543304803342\n",
      "Iteracion: 60 | Error relativo: 927178.1992002799 | norma R: 1163.148715919138\n",
      "Iteracion: 61 | Error relativo: 926467.0745584486 | norma R: 1162.7808381852412\n",
      "Iteracion: 62 | Error relativo: 926442.7972923509 | norma R: 1161.9134271748314\n",
      "Iteracion: 63 | Error relativo: 926422.5238278831 | norma R: 1162.1528350539163\n",
      "Iteracion: 64 | Error relativo: 926404.0684096124 | norma R: 1162.3643559759926\n",
      "Iteracion: 65 | Error relativo: 926389.5820699942 | norma R: 1162.5119964907728\n",
      "Iteracion: 66 | Error relativo: 926369.2068926011 | norma R: 1162.6135569999217\n",
      "Iteracion: 67 | Error relativo: 926119.7296960405 | norma R: 1162.7086842697581\n",
      "Iteracion: 68 | Error relativo: 926103.5728873112 | norma R: 1163.151583346058\n",
      "Iteracion: 69 | Error relativo: 926088.4111903436 | norma R: 1163.2182491159133\n",
      "Iteracion: 70 | Error relativo: 926072.0518506055 | norma R: 1163.202766835005\n",
      "Iteracion: 71 | Error relativo: 926055.8392952087 | norma R: 1163.230228438496\n",
      "Iteracion: 72 | Error relativo: 926035.8726541401 | norma R: 1163.246625574381\n",
      "Iteracion: 73 | Error relativo: 926026.3348124898 | norma R: 1163.2848904027883\n",
      "Iteracion: 74 | Error relativo: 926015.0396698123 | norma R: 1163.296251777579\n",
      "Iteracion: 75 | Error relativo: 926005.7192656785 | norma R: 1163.3131545736092\n",
      "Iteracion: 76 | Error relativo: 925994.0194698812 | norma R: 1163.3112712625327\n",
      "Iteracion: 77 | Error relativo: 925982.5821480287 | norma R: 1163.3298621392566\n",
      "Iteracion: 78 | Error relativo: 925973.6507465983 | norma R: 1163.3720202417194\n",
      "Done in  14.528  seconds.\n",
      "\n",
      "Method                        Time (s) \t Cost function ||(A-XX^T)*M||_F^2\n",
      "---------------------------------------------------------------------\n",
      "Coordinate descent random             14.528 \t\t 925973.6507465983\n"
     ]
    }
   ],
   "source": [
    "A = A_original.copy()\n",
    "M = M_original.copy()\n",
    "X = X_original.copy()\n",
    "\n",
    "print(\"Running Coordinate descent\")\n",
    "start_cd_r = timeit.default_timer()\n",
    "(X_cd_r, errores) = coordinate_descent_random_filas(A,d)\n",
    "stop_cd_r = timeit.default_timer()\n",
    "time_cd_r = round(stop_cd_r-start_cd_r,3)\n",
    "print(\"Done in \",time_cd_r,\" seconds.\\n\")\n",
    "\n",
    "##%%\n",
    "print(\"Method                        Time (s) \\t Cost function ||(A-XX^T)*M||_F^2\",)\n",
    "print(\"---------------------------------------------------------------------\",)\n",
    "print(\"Coordinate descent random            \",time_cd_r,\"\\t\\t\", cost_function(A,X_cd_r,M))\n",
    "\n",
    "\n"
   ]
  },
  {
   "cell_type": "code",
   "execution_count": 115,
   "metadata": {},
   "outputs": [
    {
     "data": {
      "image/png": "[encoded data removed]",
      "text/plain": [
       "<Figure size 640x480 with 1 Axes>"
      ]
     },
     "metadata": {},
     "output_type": "display_data"
    },
    {
     "data": {
      "image/png": "[encoded data removed]",
      "text/plain": [
       "<Figure size 640x480 with 1 Axes>"
      ]
     },
     "metadata": {},
     "output_type": "display_data"
    }
   ],
   "source": [
    "plt.plot(errores)\n",
    "plt.yscale('log')\n",
    "plt.show()\n",
    "\n",
    "\n",
    "plt.plot(errores[5:])\n",
    "plt.yscale('log')\n",
    "plt.show()\n",
    "x_star = X_cd_r"
   ]
  },
  {
   "cell_type": "markdown",
   "metadata": {},
   "source": [
    "### Tercera idea\n",
    "\n",
    "Luego de la reunion con Ernesto el 18/4, se propuso la idea de intentar ver si varios hilos calculan cada iteracion utilizando como regiones criticas la actualizacion de R.\n",
    "\n",
    "En mi opinion tambien se deberia poner la linea \" X[i,:] = solve_linear_system(R,(A[i,:]@X).T,X[i,:]) \" como zona critica, ya que se consume R, pero en caso de hacer eso no tiene sentido papralelizar.\n",
    "\n",
    "IMPORTANTE: Probe sin el mutex y tambien funciona, no entiendo muy bien como.\n",
    "\n"
   ]
  },
  {
   "cell_type": "code",
   "execution_count": 8,
   "metadata": {
    "ExecuteTime": {
     "end_time": "2024-05-31T18:23:27.870108800Z",
     "start_time": "2024-05-31T18:23:27.864596Z"
    }
   },
   "outputs": [],
   "source": [
    "import threading"
   ]
  },
  {
   "cell_type": "markdown",
   "metadata": {},
   "source": [
    "## Implementamos el metodo, utilizando varios hilos"
   ]
  },
  {
   "cell_type": "code",
   "execution_count": 9,
   "metadata": {
    "ExecuteTime": {
     "end_time": "2024-05-31T18:23:27.880190300Z",
     "start_time": "2024-05-31T18:23:27.876109Z"
    }
   },
   "outputs": [],
   "source": [
    "\n",
    "lock_R = threading.Lock()\n",
    "\n",
    "def coordinate_descent_MODIFICADO_3_per_thread(i, seriales):\n",
    "    global X\n",
    "    global R\n",
    "    global A\n",
    "    global finish\n",
    "    global barrier_descent\n",
    "    \n",
    "    while not finish:     \n",
    "        \n",
    "        if seriales:\n",
    "            with lock_R as l:\n",
    "                k=X[i,:][np.newaxis]  #(fila i)^t . (fila i)\n",
    "                R -= k.T@k\n",
    "                sol = solve_linear_system(R,(A[i,:]@X).T,X[i,:])\n",
    "            \n",
    "                X[i,:] = sol\n",
    "                k=X[i,:][np.newaxis]\n",
    "            \n",
    "                R += k.T@k\n",
    "            barrier_descent.wait()\n",
    "\n",
    "        else:\n",
    "            k=X[i,:][np.newaxis]  #(fila i)^t . (fila i)\n",
    "            R -= k.T@k\n",
    "            sol = solve_linear_system(R,(A[i,:]@X).T,X[i,:])\n",
    "        \n",
    "            X[i,:] = sol\n",
    "            k=X[i,:][np.newaxis]\n",
    "        \n",
    "            R += k.T@k\n",
    "            barrier_descent.wait()\n",
    "    \n",
    "\n",
    "def update_finish_descent(max_iteraciones, tolerancia):\n",
    "    def ineer_update():\n",
    "        global finish \n",
    "        global fold\n",
    "        global err_current_iteracion_decent\n",
    "        global X\n",
    "        global R\n",
    "        global A\n",
    "        global M\n",
    "        global iter\n",
    "        \n",
    "        finish = not ((max_iteraciones is None or iter < max_iteraciones) and abs((fold - cost_function(A, X, M)) / fold) > tolerancia)\n",
    "        err_current_iteracion_decent = abs((fold - cost_function(A, X, M))/fold)\n",
    "        fold = cost_function(A, X, M)\n",
    "        \n",
    "    \n",
    "    return  ineer_update\n",
    "\n",
    "\n",
    "def coordinate_descent_MODIFICADO_3(max_iteraciones, calculoSerial=False, tol=1e-5):\n",
    "    global X\n",
    "    global R\n",
    "    global A\n",
    "\n",
    "    global lock_R\n",
    "    lock_R = threading.Lock()\n",
    "\n",
    "    n=A.shape[0]\n",
    "    M = np.ones(n) - np.eye(n)\n",
    "    R = X.T@X\n",
    "    \n",
    "    global fold\n",
    "    fold = -1\n",
    "    \n",
    "    global barrier_descent\n",
    "    barrier_descent = threading.Barrier(n + 1, action=update_finish_descent(max_iteraciones, tol))\n",
    "\n",
    "    errores = []\n",
    "    \n",
    "    global finish\n",
    "    finish = False\n",
    "    \n",
    "    ths = []\n",
    "    for i in range(n):\n",
    "        ths.append(threading.Thread(target = coordinate_descent_MODIFICADO_3_per_thread, args = (i,calculoSerial,)))\n",
    "\n",
    "    for i in range(n):            \n",
    "        ths[i].start()    \n",
    "\n",
    "    global err_current_iteracion_decent\n",
    "    err_current_iteracion_decent = 0\n",
    "\n",
    "\n",
    "    global iter\n",
    "    iter = 0\n",
    "    while not finish:            \n",
    "        barrier_descent.wait()\n",
    "           \n",
    "        errores.append(err_current_iteracion_decent)\n",
    "        iter +=1\n",
    "        print(\"Iteracion: \" + str(iter) + \" | Error: \" + str(err_current_iteracion_decent) + \" | norma R: \" + str(la.norm(R)))\n",
    "\n",
    "    return (X, errores)"
   ]
  },
  {
   "cell_type": "markdown",
   "metadata": {},
   "source": [
    "#### Llamada al metodo, utilizando calculo paralelo (Maximo 51 iteraciones)"
   ]
  },
  {
   "cell_type": "code",
   "execution_count": 10,
   "metadata": {
    "ExecuteTime": {
     "end_time": "2024-05-31T18:27:50.240142200Z",
     "start_time": "2024-05-31T18:26:47.016155300Z"
    }
   },
   "outputs": [
    {
     "name": "stdout",
     "output_type": "stream",
     "text": [
      "Running Coordinate descent Modificado 3 (PARALELO)\n",
      "Iteracion: 1 | Error: 1159549.2354179602 | norma R: 1287.7830566741497\n",
      "Iteracion: 2 | Error: 0.3341977835247264 | norma R: 1605.0920265438908\n",
      "Iteracion: 3 | Error: 0.20239567636647365 | norma R: 916.6042300745655\n",
      "Iteracion: 4 | Error: 0.02540022398135413 | norma R: 1433.4337197572133\n",
      "Iteracion: 5 | Error: 0.07384328699762525 | norma R: 1690.5959391027272\n",
      "Iteracion: 6 | Error: 0.07891569574625669 | norma R: 1520.921189526472\n",
      "Iteracion: 7 | Error: 0.06881656777445241 | norma R: 1286.120317642125\n",
      "Iteracion: 8 | Error: 0.05205493631439359 | norma R: 1025.2228963965363\n",
      "Iteracion: 9 | Error: 0.11446860960323745 | norma R: 1382.8185903517026\n",
      "Iteracion: 10 | Error: 0.07417684582269814 | norma R: 1443.7944570997754\n",
      "Iteracion: 11 | Error: 0.11478477789201048 | norma R: 942.9764997876706\n",
      "Iteracion: 12 | Error: 0.07206855681184808 | norma R: 1309.333216927686\n",
      "Iteracion: 13 | Error: 0.009054997877460577 | norma R: 1049.0187573569438\n",
      "Iteracion: 14 | Error: 0.18249319245346632 | norma R: 1416.1810918805224\n",
      "Iteracion: 15 | Error: 0.2027330044492681 | norma R: 1646.8272730902254\n",
      "Iteracion: 16 | Error: 0.03675171520062158 | norma R: 1026.4924632817447\n",
      "Iteracion: 17 | Error: 0.0485747671246253 | norma R: 1669.8174206900437\n",
      "Iteracion: 18 | Error: 0.042201542589757786 | norma R: 1178.3329304523331\n",
      "Iteracion: 19 | Error: 0.16696666991506345 | norma R: 991.730433716996\n",
      "Iteracion: 20 | Error: 0.01243403741726182 | norma R: 1486.9224749283692\n",
      "Iteracion: 21 | Error: 0.03435651286559568 | norma R: 1485.9905605274148\n",
      "Iteracion: 22 | Error: 0.16700374016707034 | norma R: 1075.8713279092249\n",
      "Iteracion: 23 | Error: 0.09467598998821684 | norma R: 853.2613666646433\n",
      "Iteracion: 24 | Error: 0.08468708093791322 | norma R: 1242.2204501801325\n",
      "Iteracion: 25 | Error: 0.03571721276474427 | norma R: 989.2827974413751\n",
      "Iteracion: 26 | Error: 0.06932114727455183 | norma R: 1198.6689974509886\n",
      "Iteracion: 27 | Error: 0.052609007311497806 | norma R: 889.1841292784657\n",
      "Iteracion: 28 | Error: 0.04430651872793341 | norma R: 1004.4819475862826\n",
      "Iteracion: 29 | Error: 0.01268523600556405 | norma R: 843.6757456586207\n",
      "Iteracion: 30 | Error: 0.08190857066033197 | norma R: 1301.7434004770653\n",
      "Iteracion: 31 | Error: 0.014054067035815306 | norma R: 1733.806188085551\n",
      "Iteracion: 32 | Error: 0.02816554838131249 | norma R: 1674.9468716486513\n",
      "Iteracion: 33 | Error: 0.10378935002197477 | norma R: 1361.6762045157398\n",
      "Iteracion: 34 | Error: 0.06835964536891749 | norma R: 941.399282031331\n",
      "Iteracion: 35 | Error: 0.010977922644565702 | norma R: 1359.1186949942605\n",
      "Iteracion: 36 | Error: 0.01849314433383178 | norma R: 1204.654975190119\n",
      "Iteracion: 37 | Error: 0.076538066216339 | norma R: 1701.8487454265046\n",
      "Iteracion: 38 | Error: 0.10439724981976876 | norma R: 1577.8301247583124\n",
      "Iteracion: 39 | Error: 0.07573062901551006 | norma R: 1401.9406566363045\n",
      "Iteracion: 40 | Error: 0.02738938217224949 | norma R: 1503.8371527496756\n",
      "Iteracion: 41 | Error: 0.04321911130198827 | norma R: 1053.8412059530467\n",
      "Iteracion: 42 | Error: 0.03593951162892284 | norma R: 933.8095566488512\n",
      "Iteracion: 43 | Error: 0.0074297636998627205 | norma R: 1711.0172191627628\n",
      "Iteracion: 44 | Error: 0.05661077244386826 | norma R: 1719.6223741180684\n",
      "Iteracion: 45 | Error: 0.03075783969614902 | norma R: 1394.4652049659928\n",
      "Iteracion: 46 | Error: 0.06756856833070764 | norma R: 1817.7908257401768\n",
      "Iteracion: 47 | Error: 0.08191148748041048 | norma R: 1065.1966023951052\n",
      "Iteracion: 48 | Error: 0.006339009196255036 | norma R: 982.9229514416053\n",
      "Iteracion: 49 | Error: 0.0810771269266814 | norma R: 1253.341503012571\n",
      "Iteracion: 50 | Error: 0.12230797445933572 | norma R: 1472.311981025094\n",
      "Iteracion: 51 | Error: 0.11477455221136054 | norma R: 2032.0595212380715\n",
      "Done in  26.334  seconds.\n",
      "\n"
     ]
    },
    {
     "data": {
      "image/png": "[encoded data removed]",
      "text/plain": [
       "<Figure size 640x480 with 1 Axes>"
      ]
     },
     "metadata": {},
     "output_type": "display_data"
    }
   ],
   "source": [
    "\n",
    "nt=np.sum(n_list)\n",
    "\n",
    "A = A_original.copy()\n",
    "M = M_original.copy()\n",
    "X = X_original.copy()\n",
    "\n",
    "print(\"Running Coordinate descent Modificado 3 (PARALELO)\")\n",
    "start_cd = timeit.default_timer()\n",
    "(X_cd_S, errores) = coordinate_descent_MODIFICADO_3(50)\n",
    "stop_cd = timeit.default_timer()\n",
    "time_cd = round(stop_cd-start_cd,3)\n",
    "print(\"Done in \",time_cd,\" seconds.\\n\")\n",
    "\n",
    "plt.plot(errores)\n",
    "plt.yscale('log')\n",
    "plt.show()"
   ]
  },
  {
   "cell_type": "markdown",
   "metadata": {},
   "source": [
    "#### Llamada al metodo, NO paralelo"
   ]
  },
  {
   "cell_type": "code",
   "execution_count": 11,
   "metadata": {
    "ExecuteTime": {
     "end_time": "2024-05-31T18:24:24.769380600Z",
     "start_time": "2024-05-31T18:23:39.619432800Z"
    }
   },
   "outputs": [
    {
     "name": "stdout",
     "output_type": "stream",
     "text": [
      "Running Coordinate descent Modificado 3 (SERIAL)\n",
      "Iteracion: 1 | Error: 1159476.6788793735 | norma R: 670.3826621661011\n",
      "Iteracion: 2 | Error: 0.19033159497284582 | norma R: 1238.4571821512338\n",
      "Iteracion: 3 | Error: 0.01280058697581409 | norma R: 1158.0650929070207\n",
      "Iteracion: 4 | Error: 0.0006485242782985052 | norma R: 1161.6654860644971\n",
      "Iteracion: 5 | Error: 0.00019931630743108604 | norma R: 1163.2511094570016\n",
      "Iteracion: 6 | Error: 0.00011883398630112472 | norma R: 1163.0123706775612\n",
      "Iteracion: 7 | Error: 7.836237039931547e-05 | norma R: 1163.0769390857856\n",
      "Iteracion: 8 | Error: 5.488402741375387e-05 | norma R: 1163.2286333491081\n",
      "Iteracion: 9 | Error: 4.000030474792383e-05 | norma R: 1163.1468023775813\n",
      "Iteracion: 10 | Error: 3.070451341613801e-05 | norma R: 1163.196396938986\n",
      "Iteracion: 11 | Error: 2.4314607307745283e-05 | norma R: 1163.188150091361\n",
      "Iteracion: 12 | Error: 2.0146502301599965e-05 | norma R: 1163.2405683439138\n",
      "Iteracion: 13 | Error: 1.690224928633319e-05 | norma R: 1163.3720559385056\n",
      "Iteracion: 14 | Error: 1.4497994640971626e-05 | norma R: 1163.2563282938731\n",
      "Iteracion: 15 | Error: 1.2678224451231965e-05 | norma R: 1163.243478988605\n",
      "Iteracion: 16 | Error: 1.1120579106236006e-05 | norma R: 1163.2537816037884\n",
      "Iteracion: 17 | Error: 9.927785346014096e-06 | norma R: 1163.697945699719\n",
      "Done in  10.964  seconds.\n",
      "\n"
     ]
    },
    {
     "data": {
      "image/png": "[encoded data removed]",
      "text/plain": [
       "<Figure size 640x480 with 1 Axes>"
      ]
     },
     "metadata": {},
     "output_type": "display_data"
    }
   ],
   "source": [
    "nt=np.sum(n_list)\n",
    "\n",
    "A = A_original.copy()\n",
    "M = M_original.copy()\n",
    "X = X_original.copy()\n",
    "\n",
    "g = nx.stochastic_block_model(n_list,p1)\n",
    "\n",
    "\n",
    "print(\"Running Coordinate descent Modificado 3 (SERIAL)\")\n",
    "start_cd = timeit.default_timer()\n",
    "(X_cd_S, errores) = coordinate_descent_MODIFICADO_3(50, True)\n",
    "stop_cd = timeit.default_timer()\n",
    "time_cd = round(stop_cd-start_cd,3)\n",
    "print(\"Done in \",time_cd,\" seconds.\\n\")\n",
    "\n",
    "plt.plot(errores)\n",
    "plt.yscale('log')\n",
    "plt.show()"
   ]
  }
 ],
 "metadata": {
  "kernelspec": {
   "display_name": "Python 3",
   "language": "python",
   "name": "python3"
  },
  "language_info": {
   "codemirror_mode": {
    "name": "ipython",
    "version": 3
   },
   "file_extension": ".py",
   "mimetype": "text/x-python",
   "name": "python",
   "nbconvert_exporter": "python",
   "pygments_lexer": "ipython3",
   "version": "3.11.6"
  }
 },
 "nbformat": 4,
 "nbformat_minor": 2
}
