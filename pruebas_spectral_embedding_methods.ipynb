{
 "cells": [
  {
   "cell_type": "code",
   "execution_count": 16,
   "metadata": {
    "ExecuteTime": {
     "end_time": "2024-05-31T18:22:41.628805500Z",
     "start_time": "2024-05-31T18:22:40.579443100Z"
    }
   },
   "outputs": [],
   "source": [
    "import numpy as np\n",
    "import timeit\n",
    "import networkx as nx\n",
    "import importlib.util\n",
    "import matplotlib.pyplot as plt\n",
    "import random\n",
    "\n",
    "from multiprocessing import Pool\n",
    "\n",
    "import numpy.linalg as la\n",
    "import scipy\n"
   ]
  },
  {
   "cell_type": "markdown",
   "metadata": {},
   "source": [
    "# Funcion \"Coordinate descent\"\n",
    "\n",
    "### Funciones auxiliares"
   ]
  },
  {
   "cell_type": "code",
   "execution_count": 3,
   "metadata": {
    "ExecuteTime": {
     "end_time": "2024-05-31T18:22:41.629806Z",
     "start_time": "2024-05-31T18:22:41.594804300Z"
    }
   },
   "outputs": [],
   "source": [
    "def cost_function(A,X,M):\n",
    "    \"\"\"\n",
    "    RDPG cost function ||(A-XX^T)*M||_F^2\n",
    "    where * is the entry-wise product.\n",
    "\n",
    "    Parameters\n",
    "    ----------\n",
    "    A : matrix nxn\n",
    "    X : matrix of embeddings\n",
    "    M : mask matrix nxn\n",
    "        \n",
    "    Returns\n",
    "    -------\n",
    "    value of ||(A-XX^T)*M||_F^2\n",
    "    \"\"\"\n",
    "    return 0.5*np.linalg.norm((A - X@X.T)*M,ord='fro')**2\n",
    "\n",
    "def solve_linear_system(A,b,xx):\n",
    "    \"\"\"\n",
    "    Linear system solver, used in several methods.\n",
    "    Should you use another method for solving linear systems, just change this function.\n",
    "    \n",
    "    Returns the solution of Ax=b\n",
    "    Parameters\n",
    "    ----------\n",
    "    A : matrix nxn\n",
    "    b : vector \n",
    "\n",
    "    Returns\n",
    "    -------\n",
    "    vector x\n",
    "        solution to Ax=b\n",
    "\n",
    "    \"\"\"\n",
    "    try:\n",
    "        result = scipy.linalg.solve(A,b)\n",
    "    except:\n",
    "        result = scipy.sparse.linalg.minres(A,b,xx)[0]    \n",
    "    return result"
   ]
  },
  {
   "cell_type": "markdown",
   "metadata": {},
   "source": [
    "### Funcion principal\n",
    "\n",
    "$min ||(A-XX^T)*M||_F^2$"
   ]
  },
  {
   "cell_type": "code",
   "execution_count": 73,
   "metadata": {
    "ExecuteTime": {
     "end_time": "2024-05-31T18:22:41.629806Z",
     "start_time": "2024-05-31T18:22:41.598314300Z"
    }
   },
   "outputs": [],
   "source": [
    "def coordinate_descent(A,d,X=None,tol=1e-5):\n",
    "\n",
    "    ## Modificado con los errores\n",
    "\n",
    "    n=A.shape[0]\n",
    "    M = np.ones(n) - np.eye(n)\n",
    "    if X is None:\n",
    "        X = np.random.rand(n,d)\n",
    "    else:\n",
    "        X = X.copy()\n",
    "    \n",
    "    R = X.T@X\n",
    "    fold = -1\n",
    "\n",
    "    errores = []\n",
    "\n",
    "    iter = 0\n",
    "    while (abs((fold - cost_function(A, X, M))/fold) >tol):\n",
    "\n",
    "        fold = cost_function(A, X, M)\n",
    "        for i in range(n):\n",
    "            k=X[i,:][np.newaxis]  #(fila i)^t . (fila i)\n",
    "            R -= k.T@k\n",
    "            X[i,:] = solve_linear_system(R,(A[i,:]@X).T,X[i,:])\n",
    "            k=X[i,:][np.newaxis]\n",
    "            R += k.T@k\n",
    "        err = abs((fold - cost_function(A, X, M))/fold)\n",
    "        errores = errores + [err]\n",
    "        print(\"Iteracion: \" + str(iter) + \" | Error relativo: \" + str(err) + \" | norma R: \" + str(la.norm(R)))\n",
    "        iter +=1\n",
    "    return (X, errores)"
   ]
  },
  {
   "cell_type": "markdown",
   "metadata": {},
   "source": [
    "### Ejemplo"
   ]
  },
  {
   "cell_type": "code",
   "execution_count": 5,
   "metadata": {
    "ExecuteTime": {
     "end_time": "2024-05-31T18:22:41.630806100Z",
     "start_time": "2024-05-31T18:22:41.603480800Z"
    }
   },
   "outputs": [
    {
     "name": "stdout",
     "output_type": "stream",
     "text": [
      "graspologic is not installed. Running the other methods.\n"
     ]
    }
   ],
   "source": [
    "gy=0\n",
    "if importlib.util.find_spec('graspologic') is None:\n",
    "    print(\"graspologic is not installed. Running the other methods.\")\n",
    "else:\n",
    "    gy=1\n",
    "    import graspologic as gy\n",
    "\n",
    "##%%\n",
    "def embed_scipy(A, K):\n",
    "    UA, SA, VAt = scipy.linalg.svd(A)\n",
    "    XA = UA[:,0:K].dot(np.diag(np.sqrt(SA[0:K])))    \n",
    "    return XA"
   ]
  },
  {
   "cell_type": "code",
   "execution_count": 6,
   "metadata": {
    "ExecuteTime": {
     "end_time": "2024-05-31T18:22:44.383731200Z",
     "start_time": "2024-05-31T18:22:41.696804200Z"
    }
   },
   "outputs": [],
   "source": [
    "p1 = [[0.5, 0.2],\n",
    "      [0.2, 0.5]]\n",
    "d=10\n",
    "n_list = [4000, 5000]\n",
    "\n",
    "nt=np.sum(n_list)\n",
    "g = nx.stochastic_block_model(n_list,p1)\n",
    "A_original = nx.to_numpy_array(g)\n",
    "M_original = np.ones(nt) - np.eye(nt)\n",
    "X_original = np.random.rand(A_original.shape[0],d)\n"
   ]
  },
  {
   "cell_type": "code",
   "execution_count": 74,
   "metadata": {
    "ExecuteTime": {
     "end_time": "2024-05-31T18:23:27.864596Z",
     "start_time": "2024-05-31T18:22:44.383731200Z"
    }
   },
   "outputs": [
    {
     "name": "stdout",
     "output_type": "stream",
     "text": [
      "Running Coordinate descent\n",
      "Iteracion: 0 | Error relativo: 0.9515212883049835 | norma R: 2233.8605231679867\n",
      "Iteracion: 1 | Error relativo: 0.19919745489402668 | norma R: 3511.838957113609\n",
      "Iteracion: 2 | Error relativo: 0.007969716060457573 | norma R: 3456.7721030544126\n",
      "Iteracion: 3 | Error relativo: 0.00033158731522046783 | norma R: 3449.404428385904\n",
      "Iteracion: 4 | Error relativo: 0.00015321306836498752 | norma R: 3451.1436864431435\n",
      "Iteracion: 5 | Error relativo: 9.492307439641886e-05 | norma R: 3451.618185336658\n",
      "Iteracion: 6 | Error relativo: 6.516654952373695e-05 | norma R: 3451.692329699797\n",
      "Iteracion: 7 | Error relativo: 4.762069460988548e-05 | norma R: 3451.7890018713533\n",
      "Iteracion: 8 | Error relativo: 3.637677262972566e-05 | norma R: 3451.8734977208683\n",
      "Iteracion: 9 | Error relativo: 2.873543254172422e-05 | norma R: 3451.9377595301517\n",
      "Iteracion: 10 | Error relativo: 2.3301230703590606e-05 | norma R: 3451.9896582170927\n",
      "Iteracion: 11 | Error relativo: 1.929340937803915e-05 | norma R: 3452.03291929252\n",
      "Iteracion: 12 | Error relativo: 1.6248621813695343e-05 | norma R: 3452.0694719762405\n",
      "Iteracion: 13 | Error relativo: 1.3878357121262458e-05 | norma R: 3452.1007681265996\n",
      "Iteracion: 14 | Error relativo: 1.1995430763734932e-05 | norma R: 3452.127884251691\n",
      "Iteracion: 15 | Error relativo: 1.047395026873435e-05 | norma R: 3452.151615857854\n",
      "Iteracion: 16 | Error relativo: 9.226536030045044e-06 | norma R: 3452.1725674731038\n",
      "Done in  38.728  seconds.\n",
      "\n",
      "Method                        Time (s) \t Cost function ||(A-XX^T)*M||_F^2\n",
      "---------------------------------------------------------------------\n",
      "Coordinate descent             38.728 \t\t 8292487.024629072\n"
     ]
    },
    {
     "data": {
      "image/png": "[encoded data removed]",
      "text/plain": [
       "<Figure size 640x480 with 1 Axes>"
      ]
     },
     "metadata": {},
     "output_type": "display_data"
    }
   ],
   "source": [
    "A = A_original.copy()\n",
    "M = M_original.copy()\n",
    "X = X_original.copy()\n",
    "\n",
    "print(\"Running Coordinate descent\")\n",
    "start_cd = timeit.default_timer()\n",
    "(X_cd, errores) = coordinate_descent(A,d)\n",
    "stop_cd = timeit.default_timer()\n",
    "time_cd = round(stop_cd-start_cd,3)\n",
    "print(\"Done in \",time_cd,\" seconds.\\n\")\n",
    "\n",
    "#print(\"Running Scipy SVD\")\n",
    "#start_scipy = timeit.default_timer()\n",
    "#X_scipy = embed_scipy(A,d)\n",
    "#stop_scipy = timeit.default_timer()\n",
    "#time_scipy = round(stop_scipy-start_scipy,3)\n",
    "#print(\"Done in \",time_scipy,\" seconds.\\n\")\n",
    "\n",
    "if gy:\n",
    "    print(\"Running Gaspologic ASE\")\n",
    "    ase = gy.embed.AdjacencySpectralEmbed(n_components=d, diag_aug=True, algorithm='full')\n",
    "    start_gy = timeit.default_timer()\n",
    "    X_gy = ase.fit_transform(A)\n",
    "    stop_gy = timeit.default_timer()\n",
    "    time_gy = round(stop_gy-start_gy,3)\n",
    "    print(\"Done in \",time_gy,\" seconds.\\n\")\n",
    "\n",
    "##%%\n",
    "print(\"Method                        Time (s) \\t Cost function ||(A-XX^T)*M||_F^2\",)\n",
    "print(\"---------------------------------------------------------------------\",)\n",
    "print(\"Coordinate descent            \",time_cd,\"\\t\\t\", cost_function(A,X_cd,M))\n",
    "#print(\"Scipy                         \",time_scipy,\"\\t\\t\", cost_function(A,X_scipy,M))\n",
    "if gy: print(\"Graspologic                   \",time_gy,\"\\t\\t\", cost_function(A,X_gy,M))\n",
    "\n",
    "plt.plot(errores)\n",
    "plt.yscale('log')\n",
    "x_star = X_cd"
   ]
  },
  {
   "cell_type": "markdown",
   "metadata": {},
   "source": [
    "### Intento de paralelizar filas de X\n"
   ]
  },
  {
   "cell_type": "code",
   "execution_count": 7,
   "metadata": {},
   "outputs": [],
   "source": [
    "import copy"
   ]
  },
  {
   "cell_type": "code",
   "execution_count": 1,
   "metadata": {},
   "outputs": [],
   "source": [
    "def coordinate_descent_random_filas(A,d,batch_size,X=None,tol=1e-5):\n",
    "\n",
    "    ## Modificado con los errores\n",
    "\n",
    "    n=A.shape[0]\n",
    "    M = np.ones(n) - np.eye(n)\n",
    "    if X is None:\n",
    "        X = np.random.rand(n,d)\n",
    "    else:\n",
    "        X = X.copy()\n",
    "    \n",
    "    fold = -1\n",
    "\n",
    "    errores = []\n",
    "    \n",
    "    iter = 0\n",
    "    while (abs((fold - cost_function(A, X, M))/fold) >tol):\n",
    "        fold = cost_function(A, X, M)\n",
    "        corrs_pendientes = set(range(n))\n",
    "\n",
    "        while len(corrs_pendientes) > 0:\n",
    "        \n",
    "            corrs = set(random.sample(list(corrs_pendientes), batch_size))\n",
    "            corrs_pendientes = corrs_pendientes - corrs\n",
    "\n",
    "            R_o = X.T@X\n",
    "            X_acc = copy.deepcopy(X)    \n",
    "            \n",
    "            for i in corrs:\n",
    "                R = copy.deepcopy(R_o)\n",
    "                X_int =  copy.deepcopy(X)\n",
    "                k=X_int[i,:][np.newaxis]  #(fila i)^t . (fila i)\n",
    "                R -= k.T@k\n",
    "                X_acc[i,:] = solve_linear_system(R,(A[i,:]@X_int).T,X_int[i,:])\n",
    "            X = X_acc\n",
    "        \n",
    "        err = cost_function(A, X, M)\n",
    "        errores = errores + [err]\n",
    "        print(\"Iteracion: \" + str(iter) + \" | Error relativo: \" + str(err) + \" | norma R: \" + str(la.norm(R_o)))\n",
    "        iter +=1\n",
    "    return (X, errores)"
   ]
  },
  {
   "cell_type": "code",
   "execution_count": 11,
   "metadata": {},
   "outputs": [
    {
     "name": "stdout",
     "output_type": "stream",
     "text": [
      "Running Coordinate descent\n",
      "Iteracion: 0 | Error relativo: 3623398.3116352675 | norma R: 3597.8619097831656\n",
      "Iteracion: 1 | Error relativo: 46009947.672254734 | norma R: 9972.793417685207\n",
      "Iteracion: 2 | Error relativo: 2830955.8635912132 | norma R: 5181.718207662498\n",
      "Iteracion: 3 | Error relativo: 35782125.27184609 | norma R: 8837.715412611438\n",
      "Iteracion: 4 | Error relativo: 2585856.3603919055 | norma R: 4771.036925516525\n",
      "Iteracion: 5 | Error relativo: 14931953.000366412 | norma R: 5569.420559326139\n",
      "Iteracion: 6 | Error relativo: 2580656.6748083406 | norma R: 3309.4594348564083\n",
      "Iteracion: 7 | Error relativo: 6259838.79555171 | norma R: 3390.32473390878\n",
      "Iteracion: 8 | Error relativo: 2579684.1678358484 | norma R: 2374.113891548799\n",
      "Iteracion: 9 | Error relativo: 3584103.870083596 | norma R: 2413.1365788781573\n",
      "Iteracion: 10 | Error relativo: 2579227.956727899 | norma R: 2064.1485907938436\n",
      "Iteracion: 11 | Error relativo: 2824629.872975197 | norma R: 2063.587798511479\n",
      "Iteracion: 12 | Error relativo: 2578439.885315345 | norma R: 1966.4762190695521\n",
      "Iteracion: 13 | Error relativo: 2645563.2261939016 | norma R: 1972.5780957376362\n",
      "Iteracion: 14 | Error relativo: 2577652.82481025 | norma R: 1943.261089545957\n",
      "Iteracion: 15 | Error relativo: 2590362.148389671 | norma R: 1943.540061846636\n",
      "Iteracion: 16 | Error relativo: 2577044.1233280846 | norma R: 1937.3264023100232\n",
      "Iteracion: 17 | Error relativo: 2578621.366030354 | norma R: 1937.315620889498\n",
      "Iteracion: 18 | Error relativo: 2576258.0842896285 | norma R: 1935.799096192211\n",
      "Iteracion: 19 | Error relativo: 2576018.104770203 | norma R: 1935.6731216956075\n",
      "Iteracion: 20 | Error relativo: 2575727.05230424 | norma R: 1935.5350510016303\n",
      "Iteracion: 21 | Error relativo: 2575639.660407108 | norma R: 1935.513027530038\n",
      "Iteracion: 22 | Error relativo: 2575590.4174362626 | norma R: 1935.5243355153737\n",
      "Iteracion: 23 | Error relativo: 2575559.6106062317 | norma R: 1935.527281188671\n",
      "Iteracion: 24 | Error relativo: 2575536.0033868644 | norma R: 1935.538306190534\n",
      "Done in  15.793  seconds.\n",
      "\n",
      "Method                        Time (s) \t Cost function ||(A-XX^T)*M||_F^2\n",
      "---------------------------------------------------------------------\n",
      "Coordinate descent random             15.793 \t\t 2575536.0033868644\n"
     ]
    }
   ],
   "source": [
    "A = A_original.copy()\n",
    "M = M_original.copy()\n",
    "X = X_original.copy()\n",
    "\n",
    "print(\"Running Coordinate descent\")\n",
    "start_cd_r = timeit.default_timer()\n",
    "n = A.shape[0]\n",
    "(X_cd_r, errores) = coordinate_descent_random_filas(A,d,int(n/2))\n",
    "stop_cd_r = timeit.default_timer()\n",
    "time_cd_r = round(stop_cd_r-start_cd_r,3)\n",
    "print(\"Done in \",time_cd_r,\" seconds.\\n\")\n",
    "\n",
    "##%%\n",
    "print(\"Method                        Time (s) \\t Cost function ||(A-XX^T)*M||_F^2\",)\n",
    "print(\"---------------------------------------------------------------------\",)\n",
    "print(\"Coordinate descent random            \",time_cd_r,\"\\t\\t\", cost_function(A,X_cd_r,M))\n",
    "\n",
    "\n"
   ]
  },
  {
   "cell_type": "code",
   "execution_count": 86,
   "metadata": {},
   "outputs": [
    {
     "name": "stderr",
     "output_type": "stream",
     "text": [
      "/tmp/ipykernel_144054/1660063013.py:2: UserWarning: Data has no positive values, and therefore cannot be log-scaled.\n",
      "  plt.yscale('log')\n"
     ]
    },
    {
     "data": {
      "image/png": "[encoded data removed]",
      "text/plain": [
       "<Figure size 640x480 with 1 Axes>"
      ]
     },
     "metadata": {},
     "output_type": "display_data"
    },
    {
     "name": "stderr",
     "output_type": "stream",
     "text": [
      "/tmp/ipykernel_144054/1660063013.py:7: UserWarning: Data has no positive values, and therefore cannot be log-scaled.\n",
      "  plt.yscale('log')\n"
     ]
    },
    {
     "data": {
      "image/png": "[encoded data removed]",
      "text/plain": [
       "<Figure size 640x480 with 1 Axes>"
      ]
     },
     "metadata": {},
     "output_type": "display_data"
    },
    {
     "ename": "NameError",
     "evalue": "name 'X_cd_r' is not defined",
     "output_type": "error",
     "traceback": [
      "\u001b[0;31m---------------------------------------------------------------------------\u001b[0m",
      "\u001b[0;31mNameError\u001b[0m                                 Traceback (most recent call last)",
      "Cell \u001b[0;32mIn[86], line 9\u001b[0m\n\u001b[1;32m      7\u001b[0m plt\u001b[38;5;241m.\u001b[39myscale(\u001b[38;5;124m'\u001b[39m\u001b[38;5;124mlog\u001b[39m\u001b[38;5;124m'\u001b[39m)\n\u001b[1;32m      8\u001b[0m plt\u001b[38;5;241m.\u001b[39mshow()\n\u001b[0;32m----> 9\u001b[0m x_star \u001b[38;5;241m=\u001b[39m \u001b[43mX_cd_r\u001b[49m\n",
      "\u001b[0;31mNameError\u001b[0m: name 'X_cd_r' is not defined"
     ]
    }
   ],
   "source": [
    "plt.plot(errores)\n",
    "plt.yscale('log')\n",
    "plt.show()\n",
    "\n",
    "\n",
    "plt.plot(errores[5:])\n",
    "plt.yscale('log')\n",
    "plt.show()\n",
    "x_star = X_cd_r"
   ]
  },
  {
   "cell_type": "code",
   "execution_count": 87,
   "metadata": {},
   "outputs": [],
   "source": [
    "### Version en parallelo\n",
    "\n",
    "def calcularFila(args):\n",
    "    filas = args[0]\n",
    "    X = args[1]\n",
    "    R = args[2]\n",
    "    X_nueva = []\n",
    "    for i in filas:\n",
    "        k=X[i,:][np.newaxis]  #(fila i)^t . (fila i)\n",
    "        R -= k.T@k\n",
    "        X_nueva.append(solve_linear_system(R,(A[i,:]@X).T,X[i,:]))\n",
    "        R += k.T@k    \n",
    "    return X_nueva\n",
    "\n",
    "\n",
    "\n",
    "def coordinate_descent_random_filas_parallel(A, d, batch_size, p,tol=1e-5):\n",
    "    n=A.shape[0]\n",
    "    M = np.ones(n) - np.eye(n)\n",
    "    X = np.random.rand(n,d)\n",
    "\n",
    "    fold = -1\n",
    "\n",
    "    errores = []\n",
    "    \n",
    "    iter = 0\n",
    "\n",
    "    with Pool(p) as pool:\n",
    "        while iter < 100: #(abs((fold - cost_function(A, X, M))/fold) >tol):\n",
    "            \n",
    "            #fold = cost_function(A, X, M)\n",
    "\n",
    "            corrs_pendientes = set(range(n))\n",
    "\n",
    "            while len(corrs_pendientes) > 0:\n",
    "            \n",
    "                corrs_step = set(random.sample(list(corrs_pendientes), batch_size))\n",
    "                corrs_pendientes = corrs_pendientes - corrs_step\n",
    "\n",
    "                corrs_por_thread = np.array_split(np.array(list(corrs_step)), p)\n",
    "\n",
    "                R = X.T@X\n",
    "\n",
    "                nueva_x = list(pool.map(calcularFila, [(corrs_por_thread[i], X,R) for i in range(p)]))\n",
    "\n",
    "                for index_l, l in enumerate(corrs_por_thread):\n",
    "                    for index_i, i in enumerate(l):\n",
    "                        X[i,:] = nueva_x[index_l][index_i]\n",
    "\n",
    "            \n",
    "            errores = errores + [fold]\n",
    "            print(\"Iteracion: \" + str(iter) + \" | Error absoluto: \" + str(fold) + \" | norma R: \" + str(la.norm(R)))\n",
    "            iter +=1\n",
    "    \n",
    "    return (X, errores)\n"
   ]
  },
  {
   "cell_type": "code",
   "execution_count": 89,
   "metadata": {},
   "outputs": [
    {
     "name": "stdout",
     "output_type": "stream",
     "text": [
      "Running Parrallel Coordinate descent\n",
      "Iteracion: 0 | Error absoluto: -1 | norma R: 8075.556488901263\n",
      "Iteracion: 1 | Error absoluto: -1 | norma R: 17524.338567230887\n",
      "Iteracion: 2 | Error absoluto: -1 | norma R: 6358.162748953312\n",
      "Iteracion: 3 | Error absoluto: -1 | norma R: 7368.896027651313\n",
      "Iteracion: 4 | Error absoluto: -1 | norma R: 4135.790342541955\n",
      "Iteracion: 5 | Error absoluto: -1 | norma R: 4101.816714703697\n",
      "Iteracion: 6 | Error absoluto: -1 | norma R: 3529.346352470388\n",
      "Iteracion: 7 | Error absoluto: -1 | norma R: 3492.727658112823\n",
      "Iteracion: 8 | Error absoluto: -1 | norma R: 3454.7394934844847\n",
      "Iteracion: 9 | Error absoluto: -1 | norma R: 3454.3770517849134\n",
      "Iteracion: 10 | Error absoluto: -1 | norma R: 3451.032601707643\n",
      "Iteracion: 11 | Error absoluto: -1 | norma R: 3451.568367009075\n",
      "Iteracion: 12 | Error absoluto: -1 | norma R: 3451.497254561799\n",
      "Iteracion: 13 | Error absoluto: -1 | norma R: 3451.699589495992\n",
      "Iteracion: 14 | Error absoluto: -1 | norma R: 3451.775800702209\n",
      "Iteracion: 15 | Error absoluto: -1 | norma R: 3451.8524903889\n",
      "Iteracion: 16 | Error absoluto: -1 | norma R: 3451.912958606178\n",
      "Iteracion: 17 | Error absoluto: -1 | norma R: 3451.9609428143276\n",
      "Iteracion: 18 | Error absoluto: -1 | norma R: 3452.004177357649\n",
      "Iteracion: 19 | Error absoluto: -1 | norma R: 3452.039979401426\n",
      "Iteracion: 20 | Error absoluto: -1 | norma R: 3452.0699077603845\n",
      "Iteracion: 21 | Error absoluto: -1 | norma R: 3452.0954384134875\n",
      "Iteracion: 22 | Error absoluto: -1 | norma R: 3452.1164370747106\n",
      "Iteracion: 23 | Error absoluto: -1 | norma R: 3452.1395626022036\n",
      "Iteracion: 24 | Error absoluto: -1 | norma R: 3452.159437549207\n",
      "Iteracion: 25 | Error absoluto: -1 | norma R: 3452.1765882140107\n",
      "Iteracion: 26 | Error absoluto: -1 | norma R: 3452.1955268100683\n",
      "Iteracion: 27 | Error absoluto: -1 | norma R: 3452.2044064236625\n",
      "Iteracion: 28 | Error absoluto: -1 | norma R: 3452.2200939524228\n",
      "Iteracion: 29 | Error absoluto: -1 | norma R: 3452.233071533672\n",
      "Iteracion: 30 | Error absoluto: -1 | norma R: 3452.2441294159257\n",
      "Iteracion: 31 | Error absoluto: -1 | norma R: 3452.253392101286\n",
      "Iteracion: 32 | Error absoluto: -1 | norma R: 3452.2619020421234\n",
      "Iteracion: 33 | Error absoluto: -1 | norma R: 3452.271882281709\n",
      "Iteracion: 34 | Error absoluto: -1 | norma R: 3452.2794116775044\n",
      "Iteracion: 35 | Error absoluto: -1 | norma R: 3452.287012607627\n",
      "Iteracion: 36 | Error absoluto: -1 | norma R: 3452.29332230961\n",
      "Iteracion: 37 | Error absoluto: -1 | norma R: 3452.299435534951\n",
      "Iteracion: 38 | Error absoluto: -1 | norma R: 3452.306188568078\n",
      "Iteracion: 39 | Error absoluto: -1 | norma R: 3452.312168330262\n",
      "Iteracion: 40 | Error absoluto: -1 | norma R: 3452.3185957264477\n",
      "Iteracion: 41 | Error absoluto: -1 | norma R: 3452.322294365174\n",
      "Iteracion: 42 | Error absoluto: -1 | norma R: 3452.3277540678982\n",
      "Iteracion: 43 | Error absoluto: -1 | norma R: 3452.333449045835\n",
      "Iteracion: 44 | Error absoluto: -1 | norma R: 3452.336930318787\n",
      "Iteracion: 45 | Error absoluto: -1 | norma R: 3452.3405531873304\n",
      "Iteracion: 46 | Error absoluto: -1 | norma R: 3452.344931462077\n",
      "Iteracion: 47 | Error absoluto: -1 | norma R: 3452.3485423939874\n",
      "Iteracion: 48 | Error absoluto: -1 | norma R: 3452.3514983381633\n",
      "Iteracion: 49 | Error absoluto: -1 | norma R: 3452.3569003109715\n",
      "Iteracion: 50 | Error absoluto: -1 | norma R: 3452.359077811206\n",
      "Iteracion: 51 | Error absoluto: -1 | norma R: 3452.3619013738466\n",
      "Iteracion: 52 | Error absoluto: -1 | norma R: 3452.3639806188808\n",
      "Iteracion: 53 | Error absoluto: -1 | norma R: 3452.367487061203\n",
      "Iteracion: 54 | Error absoluto: -1 | norma R: 3452.3707165729743\n",
      "Iteracion: 55 | Error absoluto: -1 | norma R: 3452.373209815901\n",
      "Iteracion: 56 | Error absoluto: -1 | norma R: 3452.3753816879434\n",
      "Iteracion: 57 | Error absoluto: -1 | norma R: 3452.3778508614973\n",
      "Iteracion: 58 | Error absoluto: -1 | norma R: 3452.379798946741\n",
      "Iteracion: 59 | Error absoluto: -1 | norma R: 3452.3819087202864\n",
      "Iteracion: 60 | Error absoluto: -1 | norma R: 3452.38363237186\n",
      "Iteracion: 61 | Error absoluto: -1 | norma R: 3452.3867356360383\n",
      "Iteracion: 62 | Error absoluto: -1 | norma R: 3452.3886765255365\n",
      "Iteracion: 63 | Error absoluto: -1 | norma R: 3452.389882424396\n",
      "Iteracion: 64 | Error absoluto: -1 | norma R: 3452.391136204321\n",
      "Iteracion: 65 | Error absoluto: -1 | norma R: 3452.3930470043138\n",
      "Iteracion: 66 | Error absoluto: -1 | norma R: 3452.3941268788103\n",
      "Iteracion: 67 | Error absoluto: -1 | norma R: 3452.396332825441\n",
      "Iteracion: 68 | Error absoluto: -1 | norma R: 3452.397893598919\n",
      "Iteracion: 69 | Error absoluto: -1 | norma R: 3452.3998251575663\n",
      "Iteracion: 70 | Error absoluto: -1 | norma R: 3452.400485014905\n",
      "Iteracion: 71 | Error absoluto: -1 | norma R: 3452.401776031259\n",
      "Iteracion: 72 | Error absoluto: -1 | norma R: 3452.4030844409126\n",
      "Iteracion: 73 | Error absoluto: -1 | norma R: 3452.4053973120363\n",
      "Iteracion: 74 | Error absoluto: -1 | norma R: 3452.4061918313296\n",
      "Iteracion: 75 | Error absoluto: -1 | norma R: 3452.407635354819\n",
      "Iteracion: 76 | Error absoluto: -1 | norma R: 3452.408649665614\n",
      "Iteracion: 77 | Error absoluto: -1 | norma R: 3452.409641060817\n",
      "Iteracion: 78 | Error absoluto: -1 | norma R: 3452.411315369191\n",
      "Iteracion: 79 | Error absoluto: -1 | norma R: 3452.4125734272793\n",
      "Iteracion: 80 | Error absoluto: -1 | norma R: 3452.4125293461907\n",
      "Iteracion: 81 | Error absoluto: -1 | norma R: 3452.413667346696\n",
      "Iteracion: 82 | Error absoluto: -1 | norma R: 3452.413854273183\n",
      "Iteracion: 83 | Error absoluto: -1 | norma R: 3452.4158594778655\n",
      "Iteracion: 84 | Error absoluto: -1 | norma R: 3452.416152781981\n",
      "Iteracion: 85 | Error absoluto: -1 | norma R: 3452.41744064501\n",
      "Iteracion: 86 | Error absoluto: -1 | norma R: 3452.417838482562\n",
      "Iteracion: 87 | Error absoluto: -1 | norma R: 3452.4187708615486\n",
      "Iteracion: 88 | Error absoluto: -1 | norma R: 3452.4195518044517\n",
      "Iteracion: 89 | Error absoluto: -1 | norma R: 3452.420072071696\n",
      "Iteracion: 90 | Error absoluto: -1 | norma R: 3452.4213051738316\n",
      "Iteracion: 91 | Error absoluto: -1 | norma R: 3452.422011716824\n",
      "Iteracion: 92 | Error absoluto: -1 | norma R: 3452.4227205025786\n",
      "Iteracion: 93 | Error absoluto: -1 | norma R: 3452.422614144306\n",
      "Iteracion: 94 | Error absoluto: -1 | norma R: 3452.423693581872\n",
      "Iteracion: 95 | Error absoluto: -1 | norma R: 3452.4244035812167\n",
      "Iteracion: 96 | Error absoluto: -1 | norma R: 3452.4250873528445\n",
      "Iteracion: 97 | Error absoluto: -1 | norma R: 3452.42516062187\n",
      "Iteracion: 98 | Error absoluto: -1 | norma R: 3452.4263027038696\n",
      "Iteracion: 99 | Error absoluto: -1 | norma R: 3452.4272122089255\n",
      "Done in  56.799  seconds.\n",
      "\n",
      "Method                        Time (s) \t Cost function ||(A-XX^T)*M||_F^2\n",
      "---------------------------------------------------------------------\n",
      "Coordinate parrallel descent random             56.799 \t\t 8291582.177854537\n"
     ]
    }
   ],
   "source": [
    "A = A_original.copy()\n",
    "M = M_original.copy()\n",
    "X = X_original.copy()\n",
    "\n",
    "print(\"Running Parrallel Coordinate descent\")\n",
    "start_cd_r_p = timeit.default_timer()\n",
    "n = A.shape[0]\n",
    "(X_cd_r_p, errores) = coordinate_descent_random_filas_parallel(A,d,int(n/3), 1)\n",
    "stop_cd_r_p = timeit.default_timer()\n",
    "time_cd_r_p = round(stop_cd_r_p-start_cd_r_p,3)\n",
    "print(\"Done in \",time_cd_r_p,\" seconds.\\n\")\n",
    "\n",
    "##%%\n",
    "print(\"Method                        Time (s) \\t Cost function ||(A-XX^T)*M||_F^2\",)\n",
    "print(\"---------------------------------------------------------------------\",)\n",
    "print(\"Coordinate parrallel descent random            \",time_cd_r_p,\"\\t\\t\", cost_function(A,X_cd_r_p,M))\n",
    "\n",
    "\n"
   ]
  },
  {
   "cell_type": "code",
   "execution_count": 57,
   "metadata": {},
   "outputs": [
    {
     "data": {
      "image/png": "[encoded data removed]",
      "text/plain": [
       "<Figure size 640x480 with 1 Axes>"
      ]
     },
     "metadata": {},
     "output_type": "display_data"
    },
    {
     "data": {
      "image/png": "[encoded data removed]",
      "text/plain": [
       "<Figure size 640x480 with 1 Axes>"
      ]
     },
     "metadata": {},
     "output_type": "display_data"
    },
    {
     "ename": "NameError",
     "evalue": "name 'X_cd_r' is not defined",
     "output_type": "error",
     "traceback": [
      "\u001b[0;31m---------------------------------------------------------------------------\u001b[0m",
      "\u001b[0;31mNameError\u001b[0m                                 Traceback (most recent call last)",
      "Cell \u001b[0;32mIn[57], line 9\u001b[0m\n\u001b[1;32m      7\u001b[0m plt\u001b[38;5;241m.\u001b[39myscale(\u001b[38;5;124m'\u001b[39m\u001b[38;5;124mlog\u001b[39m\u001b[38;5;124m'\u001b[39m)\n\u001b[1;32m      8\u001b[0m plt\u001b[38;5;241m.\u001b[39mshow()\n\u001b[0;32m----> 9\u001b[0m x_star \u001b[38;5;241m=\u001b[39m \u001b[43mX_cd_r\u001b[49m\n",
      "\u001b[0;31mNameError\u001b[0m: name 'X_cd_r' is not defined"
     ]
    }
   ],
   "source": [
    "plt.plot(errores)\n",
    "plt.yscale('log')\n",
    "plt.show()\n",
    "\n",
    "\n",
    "plt.plot(errores[5:])\n",
    "plt.yscale('log')\n",
    "plt.show()\n",
    "x_star = X_cd_r"
   ]
  },
  {
   "cell_type": "markdown",
   "metadata": {},
   "source": [
    "### Tercera idea\n",
    "\n",
    "Luego de la reunion con Ernesto el 18/4, se propuso la idea de intentar ver si varios hilos calculan cada iteracion utilizando como regiones criticas la actualizacion de R.\n",
    "\n",
    "En mi opinion tambien se deberia poner la linea \" X[i,:] = solve_linear_system(R,(A[i,:]@X).T,X[i,:]) \" como zona critica, ya que se consume R, pero en caso de hacer eso no tiene sentido papralelizar.\n",
    "\n",
    "IMPORTANTE: Probe sin el mutex y tambien funciona, no entiendo muy bien como.\n",
    "\n"
   ]
  },
  {
   "cell_type": "code",
   "execution_count": null,
   "metadata": {
    "ExecuteTime": {
     "end_time": "2024-05-31T18:23:27.870108800Z",
     "start_time": "2024-05-31T18:23:27.864596Z"
    }
   },
   "outputs": [],
   "source": [
    "import threading"
   ]
  },
  {
   "cell_type": "markdown",
   "metadata": {},
   "source": [
    "## Implementamos el metodo, utilizando varios hilos"
   ]
  },
  {
   "cell_type": "code",
   "execution_count": null,
   "metadata": {
    "ExecuteTime": {
     "end_time": "2024-05-31T18:23:27.880190300Z",
     "start_time": "2024-05-31T18:23:27.876109Z"
    }
   },
   "outputs": [],
   "source": [
    "\n",
    "lock_R = threading.Lock()\n",
    "\n",
    "def coordinate_descent_MODIFICADO_3_per_thread(i, ):\n",
    "    global X\n",
    "    global R\n",
    "    global A\n",
    "    global finish\n",
    "    global barrier_descent\n",
    "    \n",
    "    while not finish:     \n",
    "        k=X[i,:][np.newaxis]  #(fila i)^t . (fila i)\n",
    "        R -= k.T@k\n",
    "        sol = solve_linear_system(R,(A[i,:]@X).T,X[i,:])\n",
    "    \n",
    "        X[i,:] = sol\n",
    "        k=X[i,:][np.newaxis]\n",
    "    \n",
    "        R += k.T@k\n",
    "        barrier_descent.wait()\n",
    "    \n",
    "\n",
    "def update_finish_descent(max_iteraciones, tolerancia):\n",
    "    def ineer_update():\n",
    "        global finish \n",
    "        global fold\n",
    "        global err_current_iteracion_decent\n",
    "        global X\n",
    "        global R\n",
    "        global A\n",
    "        global M\n",
    "        global iter\n",
    "        \n",
    "        finish = not ((max_iteraciones is None or iter < max_iteraciones) and abs((fold - cost_function(A, X, M)) / fold) > tolerancia)\n",
    "        err_current_iteracion_decent = cost_function(A, X, M)\n",
    "        fold = cost_function(A, X, M)\n",
    "        \n",
    "    \n",
    "    return  ineer_update\n",
    "\n",
    "\n",
    "def coordinate_descent_MODIFICADO_3(max_iteraciones, calculoSerial=False, tol=1e-5):\n",
    "    global X\n",
    "    global R\n",
    "    global A\n",
    "\n",
    "    global lock_R\n",
    "    lock_R = threading.Lock()\n",
    "\n",
    "    n=A.shape[0]\n",
    "    M = np.ones(n) - np.eye(n)\n",
    "    R = X.T@X\n",
    "    \n",
    "    global fold\n",
    "    fold = -1\n",
    "    \n",
    "    global barrier_descent\n",
    "    barrier_descent = threading.Barrier(n + 1, action=update_finish_descent(max_iteraciones, tol))\n",
    "\n",
    "    errores = []\n",
    "    \n",
    "    global finish\n",
    "    finish = False\n",
    "    \n",
    "    ths = []\n",
    "    for i in range(n):\n",
    "        ths.append(threading.Thread(target = coordinate_descent_MODIFICADO_3_per_thread, args = (i,)))\n",
    "\n",
    "    for i in range(n):            \n",
    "        ths[i].start()    \n",
    "\n",
    "    global err_current_iteracion_decent\n",
    "    err_current_iteracion_decent = 0\n",
    "\n",
    "\n",
    "    global iter\n",
    "    iter = 0\n",
    "    while not finish:            \n",
    "        barrier_descent.wait()\n",
    "           \n",
    "        errores.append(err_current_iteracion_decent)\n",
    "        iter +=1\n",
    "        print(\"Iteracion: \" + str(iter) + \" | Error: \" + str(err_current_iteracion_decent) + \" | norma R: \" + str(la.norm(R)))\n",
    "\n",
    "    return (X, errores)"
   ]
  },
  {
   "cell_type": "markdown",
   "metadata": {},
   "source": [
    "#### Llamada al metodo, utilizando calculo paralelo (Maximo 51 iteraciones)"
   ]
  },
  {
   "cell_type": "code",
   "execution_count": null,
   "metadata": {
    "ExecuteTime": {
     "end_time": "2024-05-31T18:27:50.240142200Z",
     "start_time": "2024-05-31T18:26:47.016155300Z"
    }
   },
   "outputs": [
    {
     "name": "stdout",
     "output_type": "stream",
     "text": [
      "Running Coordinate descent Modificado 3 (PARALELO)\n",
      "Iteracion: 1 | Error: 1159549.2354179602 | norma R: 1287.7830566741497\n",
      "Iteracion: 2 | Error: 0.3341977835247264 | norma R: 1605.0920265438908\n",
      "Iteracion: 3 | Error: 0.20239567636647365 | norma R: 916.6042300745655\n",
      "Iteracion: 4 | Error: 0.02540022398135413 | norma R: 1433.4337197572133\n",
      "Iteracion: 5 | Error: 0.07384328699762525 | norma R: 1690.5959391027272\n",
      "Iteracion: 6 | Error: 0.07891569574625669 | norma R: 1520.921189526472\n",
      "Iteracion: 7 | Error: 0.06881656777445241 | norma R: 1286.120317642125\n",
      "Iteracion: 8 | Error: 0.05205493631439359 | norma R: 1025.2228963965363\n",
      "Iteracion: 9 | Error: 0.11446860960323745 | norma R: 1382.8185903517026\n",
      "Iteracion: 10 | Error: 0.07417684582269814 | norma R: 1443.7944570997754\n",
      "Iteracion: 11 | Error: 0.11478477789201048 | norma R: 942.9764997876706\n",
      "Iteracion: 12 | Error: 0.07206855681184808 | norma R: 1309.333216927686\n",
      "Iteracion: 13 | Error: 0.009054997877460577 | norma R: 1049.0187573569438\n",
      "Iteracion: 14 | Error: 0.18249319245346632 | norma R: 1416.1810918805224\n",
      "Iteracion: 15 | Error: 0.2027330044492681 | norma R: 1646.8272730902254\n",
      "Iteracion: 16 | Error: 0.03675171520062158 | norma R: 1026.4924632817447\n",
      "Iteracion: 17 | Error: 0.0485747671246253 | norma R: 1669.8174206900437\n",
      "Iteracion: 18 | Error: 0.042201542589757786 | norma R: 1178.3329304523331\n",
      "Iteracion: 19 | Error: 0.16696666991506345 | norma R: 991.730433716996\n",
      "Iteracion: 20 | Error: 0.01243403741726182 | norma R: 1486.9224749283692\n",
      "Iteracion: 21 | Error: 0.03435651286559568 | norma R: 1485.9905605274148\n",
      "Iteracion: 22 | Error: 0.16700374016707034 | norma R: 1075.8713279092249\n",
      "Iteracion: 23 | Error: 0.09467598998821684 | norma R: 853.2613666646433\n",
      "Iteracion: 24 | Error: 0.08468708093791322 | norma R: 1242.2204501801325\n",
      "Iteracion: 25 | Error: 0.03571721276474427 | norma R: 989.2827974413751\n",
      "Iteracion: 26 | Error: 0.06932114727455183 | norma R: 1198.6689974509886\n",
      "Iteracion: 27 | Error: 0.052609007311497806 | norma R: 889.1841292784657\n",
      "Iteracion: 28 | Error: 0.04430651872793341 | norma R: 1004.4819475862826\n",
      "Iteracion: 29 | Error: 0.01268523600556405 | norma R: 843.6757456586207\n",
      "Iteracion: 30 | Error: 0.08190857066033197 | norma R: 1301.7434004770653\n",
      "Iteracion: 31 | Error: 0.014054067035815306 | norma R: 1733.806188085551\n",
      "Iteracion: 32 | Error: 0.02816554838131249 | norma R: 1674.9468716486513\n",
      "Iteracion: 33 | Error: 0.10378935002197477 | norma R: 1361.6762045157398\n",
      "Iteracion: 34 | Error: 0.06835964536891749 | norma R: 941.399282031331\n",
      "Iteracion: 35 | Error: 0.010977922644565702 | norma R: 1359.1186949942605\n",
      "Iteracion: 36 | Error: 0.01849314433383178 | norma R: 1204.654975190119\n",
      "Iteracion: 37 | Error: 0.076538066216339 | norma R: 1701.8487454265046\n",
      "Iteracion: 38 | Error: 0.10439724981976876 | norma R: 1577.8301247583124\n",
      "Iteracion: 39 | Error: 0.07573062901551006 | norma R: 1401.9406566363045\n",
      "Iteracion: 40 | Error: 0.02738938217224949 | norma R: 1503.8371527496756\n",
      "Iteracion: 41 | Error: 0.04321911130198827 | norma R: 1053.8412059530467\n",
      "Iteracion: 42 | Error: 0.03593951162892284 | norma R: 933.8095566488512\n",
      "Iteracion: 43 | Error: 0.0074297636998627205 | norma R: 1711.0172191627628\n",
      "Iteracion: 44 | Error: 0.05661077244386826 | norma R: 1719.6223741180684\n",
      "Iteracion: 45 | Error: 0.03075783969614902 | norma R: 1394.4652049659928\n",
      "Iteracion: 46 | Error: 0.06756856833070764 | norma R: 1817.7908257401768\n",
      "Iteracion: 47 | Error: 0.08191148748041048 | norma R: 1065.1966023951052\n",
      "Iteracion: 48 | Error: 0.006339009196255036 | norma R: 982.9229514416053\n",
      "Iteracion: 49 | Error: 0.0810771269266814 | norma R: 1253.341503012571\n",
      "Iteracion: 50 | Error: 0.12230797445933572 | norma R: 1472.311981025094\n",
      "Iteracion: 51 | Error: 0.11477455221136054 | norma R: 2032.0595212380715\n",
      "Done in  26.334  seconds.\n",
      "\n"
     ]
    },
    {
     "data": {
      "image/png": "[encoded data removed]",
      "text/plain": [
       "<Figure size 640x480 with 1 Axes>"
      ]
     },
     "metadata": {},
     "output_type": "display_data"
    }
   ],
   "source": [
    "\n",
    "nt=np.sum(n_list)\n",
    "\n",
    "A = A_original.copy()\n",
    "M = M_original.copy()\n",
    "X = X_original.copy()\n",
    "\n",
    "print(\"Running Coordinate descent Modificado 3 (PARALELO)\")\n",
    "start_cd = timeit.default_timer()\n",
    "(X_cd_S, errores) = coordinate_descent_MODIFICADO_3(50)\n",
    "stop_cd = timeit.default_timer()\n",
    "time_cd = round(stop_cd-start_cd,3)\n",
    "print(\"Done in \",time_cd,\" seconds.\\n\")\n",
    "\n",
    "plt.plot(errores)\n",
    "plt.yscale('log')\n",
    "plt.show()"
   ]
  },
  {
   "cell_type": "markdown",
   "metadata": {},
   "source": [
    "#### Llamada al metodo, NO paralelo"
   ]
  },
  {
   "cell_type": "code",
   "execution_count": null,
   "metadata": {
    "ExecuteTime": {
     "end_time": "2024-05-31T18:24:24.769380600Z",
     "start_time": "2024-05-31T18:23:39.619432800Z"
    }
   },
   "outputs": [
    {
     "name": "stdout",
     "output_type": "stream",
     "text": [
      "Running Coordinate descent Modificado 3 (SERIAL)\n",
      "Iteracion: 1 | Error: 1159476.6788793735 | norma R: 670.3826621661011\n",
      "Iteracion: 2 | Error: 0.19033159497284582 | norma R: 1238.4571821512338\n",
      "Iteracion: 3 | Error: 0.01280058697581409 | norma R: 1158.0650929070207\n",
      "Iteracion: 4 | Error: 0.0006485242782985052 | norma R: 1161.6654860644971\n",
      "Iteracion: 5 | Error: 0.00019931630743108604 | norma R: 1163.2511094570016\n",
      "Iteracion: 6 | Error: 0.00011883398630112472 | norma R: 1163.0123706775612\n",
      "Iteracion: 7 | Error: 7.836237039931547e-05 | norma R: 1163.0769390857856\n",
      "Iteracion: 8 | Error: 5.488402741375387e-05 | norma R: 1163.2286333491081\n",
      "Iteracion: 9 | Error: 4.000030474792383e-05 | norma R: 1163.1468023775813\n",
      "Iteracion: 10 | Error: 3.070451341613801e-05 | norma R: 1163.196396938986\n",
      "Iteracion: 11 | Error: 2.4314607307745283e-05 | norma R: 1163.188150091361\n",
      "Iteracion: 12 | Error: 2.0146502301599965e-05 | norma R: 1163.2405683439138\n",
      "Iteracion: 13 | Error: 1.690224928633319e-05 | norma R: 1163.3720559385056\n",
      "Iteracion: 14 | Error: 1.4497994640971626e-05 | norma R: 1163.2563282938731\n",
      "Iteracion: 15 | Error: 1.2678224451231965e-05 | norma R: 1163.243478988605\n",
      "Iteracion: 16 | Error: 1.1120579106236006e-05 | norma R: 1163.2537816037884\n",
      "Iteracion: 17 | Error: 9.927785346014096e-06 | norma R: 1163.697945699719\n",
      "Done in  10.964  seconds.\n",
      "\n"
     ]
    },
    {
     "data": {
      "image/png": "[encoded data removed]",
      "text/plain": [
       "<Figure size 640x480 with 1 Axes>"
      ]
     },
     "metadata": {},
     "output_type": "display_data"
    }
   ],
   "source": [
    "nt=np.sum(n_list)\n",
    "\n",
    "A = A_original.copy()\n",
    "M = M_original.copy()\n",
    "X = X_original.copy()\n",
    "\n",
    "g = nx.stochastic_block_model(n_list,p1)\n",
    "\n",
    "\n",
    "print(\"Running Coordinate descent Modificado 3 (SERIAL)\")\n",
    "start_cd = timeit.default_timer()\n",
    "(X_cd_S, errores) = coordinate_descent_MODIFICADO_3(50, True)\n",
    "stop_cd = timeit.default_timer()\n",
    "time_cd = round(stop_cd-start_cd,3)\n",
    "print(\"Done in \",time_cd,\" seconds.\\n\")\n",
    "\n",
    "plt.plot(errores)\n",
    "plt.yscale('log')\n",
    "plt.show()"
   ]
  }
 ],
 "metadata": {
  "kernelspec": {
   "display_name": "Python 3",
   "language": "python",
   "name": "python3"
  },
  "language_info": {
   "codemirror_mode": {
    "name": "ipython",
    "version": 3
   },
   "file_extension": ".py",
   "mimetype": "text/x-python",
   "name": "python",
   "nbconvert_exporter": "python",
   "pygments_lexer": "ipython3",
   "version": "3.11.6"
  }
 },
 "nbformat": 4,
 "nbformat_minor": 2
}
