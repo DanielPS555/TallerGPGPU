{
 "cells": [
  {
   "cell_type": "code",
   "execution_count": 1,
   "metadata": {
    "ExecuteTime": {
     "end_time": "2024-05-23T01:58:24.302780Z",
     "start_time": "2024-05-23T01:58:24.300797Z"
    }
   },
   "outputs": [],
   "source": [
    "import numpy as np\n",
    "import timeit\n",
    "import networkx as nx\n",
    "import importlib.util\n",
    "import matplotlib.pyplot as plt\n",
    "\n",
    "\n",
    "import numpy.linalg as la\n",
    "import scipy\n"
   ]
  },
  {
   "cell_type": "markdown",
   "metadata": {},
   "source": [
    "# Funcion \"Coordinate descent\"\n",
    "\n",
    "### Funciones auxiliares"
   ]
  },
  {
   "cell_type": "code",
   "execution_count": 2,
   "metadata": {
    "ExecuteTime": {
     "end_time": "2024-05-23T01:58:25.655782Z",
     "start_time": "2024-05-23T01:58:25.652879Z"
    }
   },
   "outputs": [],
   "source": [
    "def cost_function(A,X,M):\n",
    "    \"\"\"\n",
    "    RDPG cost function ||(A-XX^T)*M||_F^2\n",
    "    where * is the entry-wise product.\n",
    "\n",
    "    Parameters\n",
    "    ----------\n",
    "    A : matrix nxn\n",
    "    X : matrix of embeddings\n",
    "    M : mask matrix nxn\n",
    "        \n",
    "    Returns\n",
    "    -------\n",
    "    value of ||(A-XX^T)*M||_F^2\n",
    "    \"\"\"\n",
    "    return 0.5*np.linalg.norm((A - X@X.T)*M,ord='fro')**2\n",
    "\n",
    "def solve_linear_system(A,b,xx):\n",
    "    \"\"\"\n",
    "    Linear system solver, used in several methods.\n",
    "    Should you use another method for solving linear systems, just change this function.\n",
    "    \n",
    "    Returns the solution of Ax=b\n",
    "    Parameters\n",
    "    ----------\n",
    "    A : matrix nxn\n",
    "    b : vector \n",
    "\n",
    "    Returns\n",
    "    -------\n",
    "    vector x\n",
    "        solution to Ax=b\n",
    "\n",
    "    \"\"\"\n",
    "    try:\n",
    "        result = scipy.linalg.solve(A,b)\n",
    "    except:\n",
    "        result = scipy.sparse.linalg.minres(A,b,xx)[0]    \n",
    "    return result"
   ]
  },
  {
   "cell_type": "markdown",
   "metadata": {},
   "source": [
    "### Funcion principal\n",
    "\n",
    "$min ||(A-XX^T)*M||_F^2$"
   ]
  },
  {
   "cell_type": "code",
   "execution_count": 28,
   "metadata": {
    "ExecuteTime": {
     "end_time": "2024-05-23T01:58:27.509158Z",
     "start_time": "2024-05-23T01:58:27.499542Z"
    }
   },
   "outputs": [],
   "source": [
    "def coordinate_descent(A,d,X=None,tol=1e-5):\n",
    "\n",
    "    ## Modificado con los errores\n",
    "\n",
    "    n=A.shape[0]\n",
    "    M = np.ones(n) - np.eye(n)\n",
    "    if X is None:\n",
    "        X = np.random.rand(n,d)\n",
    "    else:\n",
    "        X = X.copy()\n",
    "    \n",
    "    R = X.T@X\n",
    "    fold = -1\n",
    "\n",
    "    errores = []\n",
    "\n",
    "    iter = 0\n",
    "    while (abs((fold - cost_function(A, X, M))/fold) >tol):\n",
    "\n",
    "        fold = cost_function(A, X, M)\n",
    "        for i in range(n):\n",
    "            k=X[i,:][np.newaxis]  #(fila i)^t . (fila i)\n",
    "            R -= k.T@k\n",
    "            X[i,:] = solve_linear_system(R,(A[i,:]@X).T,X[i,:])\n",
    "            k=X[i,:][np.newaxis]\n",
    "            R += k.T@k\n",
    "        err = abs((fold - cost_function(A, X, M))/fold)\n",
    "        errores = errores + [err]\n",
    "        print(\"Iteracion: \" + str(iter) + \" | Error relativo: \" + str(err) + \" | norma R: \" + str(la.norm(R)))\n",
    "        iter +=1\n",
    "    return (X, errores)"
   ]
  },
  {
   "cell_type": "markdown",
   "metadata": {},
   "source": [
    "### Ejemplo"
   ]
  },
  {
   "cell_type": "code",
   "execution_count": 29,
   "metadata": {
    "ExecuteTime": {
     "end_time": "2024-05-23T01:58:29.331665Z",
     "start_time": "2024-05-23T01:58:29.320084Z"
    }
   },
   "outputs": [
    {
     "name": "stdout",
     "output_type": "stream",
     "text": [
      "graspologic is not installed. Running the other methods.\n"
     ]
    }
   ],
   "source": [
    "gy=0\n",
    "if importlib.util.find_spec('graspologic') is None:\n",
    "    print(\"graspologic is not installed. Running the other methods.\")\n",
    "else:\n",
    "    gy=1\n",
    "    import graspologic as gy\n",
    "\n",
    "##%%\n",
    "def embed_scipy(A, K):\n",
    "    UA, SA, VAt = scipy.linalg.svd(A)\n",
    "    XA = UA[:,0:K].dot(np.diag(np.sqrt(SA[0:K])))    \n",
    "    return XA"
   ]
  },
  {
   "cell_type": "code",
   "execution_count": 6,
   "metadata": {
    "ExecuteTime": {
     "end_time": "2024-05-23T01:58:32.577995Z",
     "start_time": "2024-05-23T01:58:30.877926Z"
    }
   },
   "outputs": [],
   "source": [
    "p1 = [[0.5, 0.2],\n",
    "      [0.2, 0.5]]\n",
    "d=80\n",
    "n_list = [1800, 1200]\n",
    "\n",
    "nt=np.sum(n_list)\n",
    "g = nx.stochastic_block_model(n_list,p1)\n",
    "A_original = nx.to_numpy_array(g)\n",
    "M_original = np.ones(nt) - np.eye(nt)\n",
    "X_original = np.random.rand(A_original.shape[0],d)\n"
   ]
  },
  {
   "cell_type": "code",
   "execution_count": 31,
   "metadata": {
    "ExecuteTime": {
     "end_time": "2024-05-23T02:00:27.921021Z",
     "start_time": "2024-05-23T01:58:34.317149Z"
    }
   },
   "outputs": [
    {
     "name": "stdout",
     "output_type": "stream",
     "text": [
      "Running Coordinate descent\n",
      "Iteracion: 0 | Error relativo: 0.9993619810528307 | norma R: 819.7750781367505\n",
      "Iteracion: 1 | Error relativo: 0.21773849594056824 | norma R: 1233.5325435195543\n",
      "Iteracion: 2 | Error relativo: 0.020255315386681468 | norma R: 1223.039538180193\n",
      "Iteracion: 3 | Error relativo: 0.006484424223032228 | norma R: 1224.2734422791582\n",
      "Iteracion: 4 | Error relativo: 0.003423565154522813 | norma R: 1227.6729981610818\n",
      "Iteracion: 5 | Error relativo: 0.0020940913737803263 | norma R: 1229.488922648607\n",
      "Iteracion: 6 | Error relativo: 0.0013869248961691277 | norma R: 1230.5369782003306\n",
      "Iteracion: 7 | Error relativo: 0.0009674538832909312 | norma R: 1231.2827506814708\n",
      "Iteracion: 8 | Error relativo: 0.0006995680175392282 | norma R: 1231.8276155375129\n",
      "Iteracion: 9 | Error relativo: 0.0005194861536928437 | norma R: 1232.2309242678548\n",
      "Iteracion: 10 | Error relativo: 0.0003941016053349581 | norma R: 1232.536442388812\n",
      "Iteracion: 11 | Error relativo: 0.00030460563766260523 | norma R: 1232.7724106438127\n",
      "Iteracion: 12 | Error relativo: 0.0002394769539504198 | norma R: 1232.9576865532729\n",
      "Iteracion: 13 | Error relativo: 0.00019126723799766756 | norma R: 1233.1054191845824\n",
      "Iteracion: 14 | Error relativo: 0.00015499779802788375 | norma R: 1233.2249264579514\n",
      "Iteracion: 15 | Error relativo: 0.0001272747060550817 | norma R: 1233.3228919946564\n",
      "Iteracion: 16 | Error relativo: 0.00010575408050077382 | norma R: 1233.4041713092786\n",
      "Iteracion: 17 | Error relativo: 8.879944864998342e-05 | norma R: 1233.4723364406013\n",
      "Iteracion: 18 | Error relativo: 7.525572645703455e-05 | norma R: 1233.5300495865617\n",
      "Iteracion: 19 | Error relativo: 6.429816985332974e-05 | norma R: 1233.5793225873022\n",
      "Iteracion: 20 | Error relativo: 5.533064996305231e-05 | norma R: 1233.6216982244584\n",
      "Iteracion: 21 | Error relativo: 4.791664450876446e-05 | norma R: 1233.6583773483499\n",
      "Iteracion: 22 | Error relativo: 4.1732079000859205e-05 | norma R: 1233.6903083197813\n",
      "Iteracion: 23 | Error relativo: 3.653286446853163e-05 | norma R: 1233.7182502477515\n",
      "Iteracion: 24 | Error relativo: 3.2132419745151475e-05 | norma R: 1233.7428180625093\n",
      "Iteracion: 25 | Error relativo: 2.8386016231784257e-05 | norma R: 1233.7645150327962\n",
      "Iteracion: 26 | Error relativo: 2.5179810730237664e-05 | norma R: 1233.7837566017408\n",
      "Iteracion: 27 | Error relativo: 2.242310530180135e-05 | norma R: 1233.8008881864337\n",
      "Iteracion: 28 | Error relativo: 2.0042821236478e-05 | norma R: 1233.8161987293547\n",
      "Iteracion: 29 | Error relativo: 1.797950525890452e-05 | norma R: 1233.829931205499\n",
      "Iteracion: 30 | Error relativo: 1.6184397712663173e-05 | norma R: 1233.8422908990472\n",
      "Iteracion: 31 | Error relativo: 1.4617233829822054e-05 | norma R: 1233.8534520067794\n",
      "Iteracion: 32 | Error relativo: 1.3244576193311126e-05 | norma R: 1233.863562958282\n",
      "Iteracion: 33 | Error relativo: 1.2038517822885146e-05 | norma R: 1233.8727507334124\n",
      "Iteracion: 34 | Error relativo: 1.0975667095660147e-05 | norma R: 1233.8811243848631\n",
      "Iteracion: 35 | Error relativo: 1.0036339784401907e-05 | norma R: 1233.8887779238669\n",
      "Iteracion: 36 | Error relativo: 9.20390679251631e-06 | norma R: 1233.8957926921717\n",
      "Done in  47.052  seconds.\n",
      "\n",
      "Running Scipy SVD\n",
      "Done in  66.093  seconds.\n",
      "\n",
      "Method                        Time (s) \t Cost function ||(A-XX^T)*M||_F^2\n",
      "---------------------------------------------------------------------\n",
      "Coordinate descent             47.052 \t\t 843697.5990883425\n",
      "Scipy                          66.093 \t\t 1046092.5168484307\n"
     ]
    },
    {
     "data": {
      "image/png": "[encoded data removed]",
      "text/plain": [
       "<Figure size 640x480 with 1 Axes>"
      ]
     },
     "metadata": {},
     "output_type": "display_data"
    }
   ],
   "source": [
    "A = A_original.copy()\n",
    "M = M_original.copy()\n",
    "X = X_original.copy()\n",
    "\n",
    "print(\"Running Coordinate descent\")\n",
    "start_cd = timeit.default_timer()\n",
    "(X_cd, errores) = coordinate_descent(A,d)\n",
    "stop_cd = timeit.default_timer()\n",
    "time_cd = round(stop_cd-start_cd,3)\n",
    "print(\"Done in \",time_cd,\" seconds.\\n\")\n",
    "\n",
    "print(\"Running Scipy SVD\")\n",
    "start_scipy = timeit.default_timer()\n",
    "X_scipy = embed_scipy(A,d)\n",
    "stop_scipy = timeit.default_timer()\n",
    "time_scipy = round(stop_scipy-start_scipy,3)\n",
    "print(\"Done in \",time_scipy,\" seconds.\\n\")\n",
    "\n",
    "if gy:\n",
    "    print(\"Running Gaspologic ASE\")\n",
    "    ase = gy.embed.AdjacencySpectralEmbed(n_components=d, diag_aug=True, algorithm='full')\n",
    "    start_gy = timeit.default_timer()\n",
    "    X_gy = ase.fit_transform(A)\n",
    "    stop_gy = timeit.default_timer()\n",
    "    time_gy = round(stop_gy-start_gy,3)\n",
    "    print(\"Done in \",time_gy,\" seconds.\\n\")\n",
    "\n",
    "##%%\n",
    "print(\"Method                        Time (s) \\t Cost function ||(A-XX^T)*M||_F^2\",)\n",
    "print(\"---------------------------------------------------------------------\",)\n",
    "print(\"Coordinate descent            \",time_cd,\"\\t\\t\", cost_function(A,X_cd,M))\n",
    "print(\"Scipy                         \",time_scipy,\"\\t\\t\", cost_function(A,X_scipy,M))\n",
    "if gy: print(\"Graspologic                   \",time_gy,\"\\t\\t\", cost_function(A,X_gy,M))\n",
    "\n",
    "plt.plot(errores)\n",
    "\n",
    "x_star = X_cd"
   ]
  },
  {
   "cell_type": "markdown",
   "metadata": {},
   "source": [
    "### Tercera idea\n",
    "\n",
    "Luego de la reunion con Ernesto el 18/4, se propuso la idea de intentar ver si varios hilos calculan cada iteracion utilizando como regiones criticas la actualizacion de R.\n",
    "\n",
    "En mi opinion tambien se deberia poner la linea \" X[i,:] = solve_linear_system(R,(A[i,:]@X).T,X[i,:]) \" como zona critica, ya que se consume R, pero en caso de hacer eso no tiene sentido papralelizar.\n",
    "\n",
    "IMPORTANTE: Probe sin el mutex y tambien funciona, no entiendo muy bien como.\n",
    "\n"
   ]
  },
  {
   "cell_type": "code",
   "execution_count": 3,
   "metadata": {
    "ExecuteTime": {
     "end_time": "2024-05-23T03:20:30.324686Z",
     "start_time": "2024-05-23T03:20:30.322933Z"
    }
   },
   "outputs": [],
   "source": [
    "import threading"
   ]
  },
  {
   "cell_type": "code",
   "execution_count": 15,
   "metadata": {
    "ExecuteTime": {
     "end_time": "2024-05-23T04:16:47.801140Z",
     "start_time": "2024-05-23T04:16:47.792500Z"
    }
   },
   "outputs": [],
   "source": [
    "\n",
    "lock_R = threading.Lock()\n",
    "\n",
    "def coordinate_descent_MODIFICADO_3_per_thread(i):\n",
    "    global X\n",
    "    global R\n",
    "    global A\n",
    "    global finish\n",
    "    global barrier_descent\n",
    "    \n",
    "    while not finish:     \n",
    "        \n",
    "        k=X[i,:][np.newaxis]  #(fila i)^t . (fila i)\n",
    "        R -= k.T@k\n",
    "        sol = solve_linear_system(R,(A[i,:]@X).T,X[i,:])\n",
    "    \n",
    "        X[i,:] = sol\n",
    "        k=X[i,:][np.newaxis]\n",
    "    \n",
    "        R += k.T@k\n",
    "        barrier_descent.wait()\n",
    "\n",
    "        #with lock_R as l:\n",
    "        #    k=X[i,:][np.newaxis]  #(fila i)^t . (fila i)\n",
    "        #    R -= k.T@k\n",
    "        #    sol = solve_linear_system(R,(A[i,:]@X).T,X[i,:])\n",
    "        #\n",
    "        #    X[i,:] = sol\n",
    "        #    k=X[i,:][np.newaxis]\n",
    "        \n",
    "        #    R += k.T@k\n",
    "        #barrier_descent.wait()\n",
    "\n",
    "\n",
    "        \n",
    "    return\n",
    "    \n",
    "\n",
    "def update_finish_descent(max_iteraciones, tolerancia):\n",
    "    def ineer_update():\n",
    "        global finish \n",
    "        global fold\n",
    "        global err_current_iteracion_decent\n",
    "        global X\n",
    "        global R\n",
    "        global A\n",
    "        global M\n",
    "        global iter\n",
    "        \n",
    "        finish = not ((max_iteraciones is None or iter < max_iteraciones) and abs((fold - cost_function(A, X, M)) / fold) > tolerancia)\n",
    "        err_current_iteracion_decent = abs((fold - cost_function(A, X, M))/fold)\n",
    "        fold = cost_function(A, X, M)\n",
    "        \n",
    "    \n",
    "    return  ineer_update\n",
    "\n",
    "\n",
    "def coordinate_descent_MODIFICADO_3(max_iteraciones,tol=1e-5):\n",
    "    global X\n",
    "    global R\n",
    "    global A\n",
    "\n",
    "    global lock_R\n",
    "    lock_R = threading.Lock()\n",
    "\n",
    "    n=A.shape[0]\n",
    "    M = np.ones(n) - np.eye(n)\n",
    "    R = X.T@X\n",
    "    \n",
    "    global fold\n",
    "    fold = -1\n",
    "    \n",
    "    global barrier_descent\n",
    "    barrier_descent = threading.Barrier(n + 1, action=update_finish_descent(max_iteraciones, tol))\n",
    "\n",
    "    errores = []\n",
    "    \n",
    "    global finish\n",
    "    finish = False\n",
    "    \n",
    "    ths = []\n",
    "    for i in range(n):\n",
    "        ths.append(threading.Thread(target = coordinate_descent_MODIFICADO_3_per_thread, args = (i,)))\n",
    "\n",
    "    for i in range(n):            \n",
    "        ths[i].start()    \n",
    "\n",
    "    global err_current_iteracion_decent\n",
    "    err_current_iteracion_decent = 0\n",
    "\n",
    "\n",
    "    global iter\n",
    "    iter = 0\n",
    "    while not finish:            \n",
    "        barrier_descent.wait()\n",
    "           \n",
    "        errores.append(err_current_iteracion_decent)\n",
    "        iter +=1\n",
    "        print(\"Iteracion: \" + str(iter) + \" | Error: \" + str(err_current_iteracion_decent) + \" | norma R: \" + str(la.norm(R)))\n",
    "\n",
    "    return (X, errores)"
   ]
  },
  {
   "cell_type": "code",
   "execution_count": 16,
   "metadata": {
    "ExecuteTime": {
     "end_time": "2024-05-23T04:16:51.354977Z",
     "start_time": "2024-05-23T04:16:51.333309Z"
    }
   },
   "outputs": [
    {
     "name": "stdout",
     "output_type": "stream",
     "text": [
      "Running Coordinate descent Modificado 3\n",
      "Iteracion: 1 | Error: 1121164.53480111 | norma R: 614.721676288768\n",
      "Iteracion: 2 | Error: 11.20393885850686 | norma R: 2393.1881634219303\n",
      "Iteracion: 3 | Error: 0.05860203956253819 | norma R: 4868.909339141001\n",
      "Iteracion: 4 | Error: 0.4340912457181637 | norma R: 4567.250399218787\n",
      "Iteracion: 5 | Error: 0.22727955579335396 | norma R: 4037.9187174994695\n",
      "Iteracion: 6 | Error: 0.3952315057685266 | norma R: 4649.349856231886\n",
      "Iteracion: 7 | Error: 1.4752128177774184 | norma R: 7094.485078517742\n",
      "Iteracion: 8 | Error: 0.8310765944826962 | norma R: 2284.344437663459\n",
      "Iteracion: 9 | Error: 0.5109158642012842 | norma R: 2656.358251676377\n",
      "Iteracion: 10 | Error: 0.10635726372196176 | norma R: 3616.9412304347657\n",
      "Iteracion: 11 | Error: 0.18900491429237112 | norma R: 2200.710387305213\n",
      "Iteracion: 12 | Error: 0.18920293032583557 | norma R: 3053.368084067565\n",
      "Iteracion: 13 | Error: 0.085273405194381 | norma R: 3588.780455986825\n",
      "Iteracion: 14 | Error: 0.15478854140512083 | norma R: 3453.8962841913335\n",
      "Iteracion: 15 | Error: 0.3343137378146492 | norma R: 2912.6953280250464\n",
      "Iteracion: 16 | Error: 1.6490543630642869 | norma R: 3029.8640457546057\n",
      "Iteracion: 17 | Error: 0.29806226087541715 | norma R: 3265.447881287119\n",
      "Iteracion: 18 | Error: 0.6008101038970304 | norma R: 2808.771354717377\n",
      "Iteracion: 19 | Error: 0.1676757510910613 | norma R: 3303.2677009266254\n",
      "Iteracion: 20 | Error: 0.44881623990967456 | norma R: 3021.518938086139\n",
      "Iteracion: 21 | Error: 0.11262859352017411 | norma R: 2795.4785696025924\n",
      "Iteracion: 22 | Error: 1.1584740206416726 | norma R: 2503.314176035501\n",
      "Iteracion: 23 | Error: 0.2854284443809015 | norma R: 3711.072522264869\n",
      "Iteracion: 24 | Error: 4.6368939127751405 | norma R: 8776.94614319019\n",
      "Iteracion: 25 | Error: 8.297180798213791 | norma R: 17724.122533899863\n",
      "Iteracion: 26 | Error: 0.94341355672511 | norma R: 7061.584076567097\n",
      "Iteracion: 27 | Error: 0.631852019998678 | norma R: 4564.552520156916\n",
      "Iteracion: 28 | Error: 0.041612679897471846 | norma R: 4032.870894834779\n",
      "Iteracion: 29 | Error: 0.19396701373926145 | norma R: 3516.2487455616683\n",
      "Iteracion: 30 | Error: 0.28971916051023494 | norma R: 1070.2738275716536\n",
      "Iteracion: 31 | Error: 0.2909605059749364 | norma R: 3478.287225747149\n",
      "Iteracion: 32 | Error: 0.2795896341320377 | norma R: 2655.0213147137106\n",
      "Iteracion: 33 | Error: 1.3910033287868768 | norma R: 4916.415819791464\n",
      "Iteracion: 34 | Error: 0.17698621156623207 | norma R: 1183.2315574420234\n",
      "Iteracion: 35 | Error: 0.10760317152404818 | norma R: 1830.1325450871932\n",
      "Iteracion: 36 | Error: 0.5940124170041127 | norma R: 1128.370153577747\n",
      "Iteracion: 37 | Error: 0.16598016923575862 | norma R: 2719.102216270868\n",
      "Iteracion: 38 | Error: 0.8232865150022277 | norma R: 3967.222027475931\n",
      "Iteracion: 39 | Error: 0.1224792963534379 | norma R: 3728.191588181238\n",
      "Iteracion: 40 | Error: 0.40029894447388675 | norma R: 3002.4552234170474\n",
      "Iteracion: 41 | Error: 0.4639112347784799 | norma R: 1131.1017333211294\n",
      "Iteracion: 42 | Error: 0.35677051619266004 | norma R: 3058.8007181094795\n",
      "Iteracion: 43 | Error: 0.1389249691850588 | norma R: 2004.9085374619738\n",
      "Iteracion: 44 | Error: 0.3006623970648423 | norma R: 2620.284021571146\n",
      "Iteracion: 45 | Error: 0.2942094520554986 | norma R: 3137.610982761678\n",
      "Iteracion: 46 | Error: 0.12637485926139128 | norma R: 2365.0673508797795\n",
      "Iteracion: 47 | Error: 0.11938965398920105 | norma R: 3519.4010192976452\n",
      "Iteracion: 48 | Error: 0.0496563735419547 | norma R: 1622.6645406180223\n",
      "Iteracion: 49 | Error: 0.42033739263510517 | norma R: 2473.8697354775195\n",
      "Iteracion: 50 | Error: 0.02046355550030359 | norma R: 2629.299438595849\n",
      "Iteracion: 51 | Error: 0.06716024064426729 | norma R: 2917.812150343763\n",
      "Done in  81.906  seconds.\n",
      "\n"
     ]
    },
    {
     "data": {
      "image/png": "[encoded data removed]",
      "text/plain": [
       "<Figure size 640x480 with 1 Axes>"
      ]
     },
     "metadata": {},
     "output_type": "display_data"
    }
   ],
   "source": [
    "\n",
    "nt=np.sum(n_list)\n",
    "\n",
    "A = A_original.copy()\n",
    "M = M_original.copy()\n",
    "X = X_original.copy()\n",
    "\n",
    "g = nx.stochastic_block_model(n_list,p1)\n",
    "\n",
    "\n",
    "print(\"Running Coordinate descent Modificado 3\")\n",
    "start_cd = timeit.default_timer()\n",
    "(X_cd_S, errores) = coordinate_descent_MODIFICADO_3(50)\n",
    "stop_cd = timeit.default_timer()\n",
    "time_cd = round(stop_cd-start_cd,3)\n",
    "print(\"Done in \",time_cd,\" seconds.\\n\")\n",
    "\n",
    "plt.plot(errores)\n",
    "plt.yscale('log')\n",
    "plt.show()"
   ]
  },
  {
   "cell_type": "markdown",
   "metadata": {},
   "source": [
    "Observar que se obtiene buenos resultados en cuanto a convergencia, pero es más lento. Probé con un d = 80, pero aún no veo diferencias en cuanto a la velocidad. ¿Sería por overheads del manejo de hilos (creacion, context switch, etc)? "
   ]
  },
  {
   "cell_type": "code",
   "execution_count": 53,
   "metadata": {
    "ExecuteTime": {
     "end_time": "2024-05-23T02:59:00.257049Z",
     "start_time": "2024-05-23T02:59:00.251351Z"
    }
   },
   "outputs": [
    {
     "name": "stdout",
     "output_type": "stream",
     "text": [
      "0\n",
      "1\n",
      "2\n",
      "0\n",
      "2\n",
      "1\n",
      "0\n",
      "1\n",
      "2\n",
      "1\n",
      "2\n",
      "0\n"
     ]
    }
   ],
   "source": [
    "\n",
    "\n",
    "finish = False\n",
    "cont = 0\n",
    "\n",
    "\n",
    "def update_finish():\n",
    "    global cont\n",
    "    global finish\n",
    "    cont += 1\n",
    "    if cont == 4:\n",
    "        finish = True\n",
    "        \n",
    "\n",
    "def thread_per_thread(i):\n",
    "    while not finish:\n",
    "        print(i)\n",
    "        barrier.wait()\n",
    "\n",
    "        if finish: return\n",
    "    \n",
    "barrier = threading.Barrier(4, action=update_finish )\n",
    "    \n",
    "thrs = []\n",
    "for i in range(3):\n",
    "    thrs.append(threading.Thread(target = thread_per_thread, args = (i,)))\n",
    "    \n",
    "for i in range(3):\n",
    "    thrs[i].start()\n",
    "    \n",
    "while not finish:\n",
    "    barrier.wait()\n",
    "\n",
    "\n",
    "\n",
    "\n",
    "    \n",
    "    "
   ]
  }
 ],
 "metadata": {
  "kernelspec": {
   "display_name": "Python 3",
   "language": "python",
   "name": "python3"
  },
  "language_info": {
   "codemirror_mode": {
    "name": "ipython",
    "version": 3
   },
   "file_extension": ".py",
   "mimetype": "text/x-python",
   "name": "python",
   "nbconvert_exporter": "python",
   "pygments_lexer": "ipython3",
   "version": "3.11.6"
  }
 },
 "nbformat": 4,
 "nbformat_minor": 2
}
