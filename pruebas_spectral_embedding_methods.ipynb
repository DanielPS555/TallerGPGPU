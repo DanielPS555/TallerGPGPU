{
 "cells": [
  {
   "cell_type": "code",
   "execution_count": 1,
   "metadata": {
    "ExecuteTime": {
     "end_time": "2024-05-23T01:58:24.302780Z",
     "start_time": "2024-05-23T01:58:24.300797Z"
    }
   },
   "outputs": [],
   "source": [
    "import numpy as np\n",
    "import timeit\n",
    "import networkx as nx\n",
    "import importlib.util\n",
    "import matplotlib.pyplot as plt\n",
    "\n",
    "\n",
    "import numpy.linalg as la\n",
    "import scipy\n"
   ]
  },
  {
   "cell_type": "markdown",
   "metadata": {},
   "source": [
    "# Funcion \"Coordinate descent\"\n",
    "\n",
    "### Funciones auxiliares"
   ]
  },
  {
   "cell_type": "code",
   "execution_count": 27,
   "metadata": {
    "ExecuteTime": {
     "end_time": "2024-05-23T01:58:25.655782Z",
     "start_time": "2024-05-23T01:58:25.652879Z"
    }
   },
   "outputs": [],
   "source": [
    "def cost_function(A,X,M):\n",
    "    \"\"\"\n",
    "    RDPG cost function ||(A-XX^T)*M||_F^2\n",
    "    where * is the entry-wise product.\n",
    "\n",
    "    Parameters\n",
    "    ----------\n",
    "    A : matrix nxn\n",
    "    X : matrix of embeddings\n",
    "    M : mask matrix nxn\n",
    "        \n",
    "    Returns\n",
    "    -------\n",
    "    value of ||(A-XX^T)*M||_F^2\n",
    "    \"\"\"\n",
    "    return 0.5*np.linalg.norm((A - X@X.T)*M,ord='fro')**2\n",
    "\n",
    "def solve_linear_system(A,b,xx):\n",
    "    \"\"\"\n",
    "    Linear system solver, used in several methods.\n",
    "    Should you use another method for solving linear systems, just change this function.\n",
    "    \n",
    "    Returns the solution of Ax=b\n",
    "    Parameters\n",
    "    ----------\n",
    "    A : matrix nxn\n",
    "    b : vector \n",
    "\n",
    "    Returns\n",
    "    -------\n",
    "    vector x\n",
    "        solution to Ax=b\n",
    "\n",
    "    \"\"\"\n",
    "    try:\n",
    "        result = scipy.linalg.solve(A,b)\n",
    "    except:\n",
    "        result = scipy.sparse.linalg.minres(A,b,xx)[0]    \n",
    "    return result"
   ]
  },
  {
   "cell_type": "markdown",
   "metadata": {},
   "source": [
    "### Funcion principal\n",
    "\n",
    "$min ||(A-XX^T)*M||_F^2$"
   ]
  },
  {
   "cell_type": "code",
   "execution_count": 26,
   "metadata": {
    "ExecuteTime": {
     "end_time": "2024-05-23T01:58:27.509158Z",
     "start_time": "2024-05-23T01:58:27.499542Z"
    }
   },
   "outputs": [],
   "source": [
    "def coordinate_descent(A,d,X=None,tol=1e-5):\n",
    "\n",
    "    ## Modificado con los errores\n",
    "\n",
    "    n=A.shape[0]\n",
    "    M = np.ones(n) - np.eye(n)\n",
    "    if X is None:\n",
    "        X = np.random.rand(n,d)\n",
    "    else:\n",
    "        X = X.copy()\n",
    "    \n",
    "    R = X.T@X\n",
    "    fold = -1\n",
    "\n",
    "    errores = []\n",
    "\n",
    "    iter = 0\n",
    "    while (abs((fold - cost_function(A, X, M))/fold) >tol):\n",
    "\n",
    "        fold = cost_function(A, X, M)\n",
    "        for i in range(n):\n",
    "            k=X[i,:][np.newaxis]  #(fila i)^t . (fila i)\n",
    "            R -= k.T@k\n",
    "            X[i,:] = solve_linear_system(R,(A[i,:]@X).T,X[i,:])\n",
    "            k=X[i,:][np.newaxis]\n",
    "            R += k.T@k\n",
    "        err = abs((fold - cost_function(A, X, M))/fold)\n",
    "        errores = errores + [err]\n",
    "        print(\"Iteracion: \" + str(iter) + \" | Error relativo: \" + str(err) + \" | norma R: \" + str(la.norm(R)))\n",
    "        iter +=1\n",
    "    return (X, errores)"
   ]
  },
  {
   "cell_type": "markdown",
   "metadata": {},
   "source": [
    "### Ejemplo"
   ]
  },
  {
   "cell_type": "code",
   "execution_count": 28,
   "metadata": {
    "ExecuteTime": {
     "end_time": "2024-05-23T01:58:29.331665Z",
     "start_time": "2024-05-23T01:58:29.320084Z"
    }
   },
   "outputs": [
    {
     "name": "stdout",
     "output_type": "stream",
     "text": [
      "graspologic is not installed. Running the other methods.\n"
     ]
    }
   ],
   "source": [
    "gy=0\n",
    "if importlib.util.find_spec('graspologic') is None:\n",
    "    print(\"graspologic is not installed. Running the other methods.\")\n",
    "else:\n",
    "    gy=1\n",
    "    import graspologic as gy\n",
    "\n",
    "##%%\n",
    "def embed_scipy(A, K):\n",
    "    UA, SA, VAt = scipy.linalg.svd(A)\n",
    "    XA = UA[:,0:K].dot(np.diag(np.sqrt(SA[0:K])))    \n",
    "    return XA"
   ]
  },
  {
   "cell_type": "code",
   "execution_count": 29,
   "metadata": {
    "ExecuteTime": {
     "end_time": "2024-05-23T01:58:32.577995Z",
     "start_time": "2024-05-23T01:58:30.877926Z"
    }
   },
   "outputs": [],
   "source": [
    "p1 = [[0.5, 0.2],\n",
    "      [0.2, 0.5]]\n",
    "d=80\n",
    "n_list = [1800, 1200]\n",
    "\n",
    "nt=np.sum(n_list)\n",
    "g = nx.stochastic_block_model(n_list,p1)\n",
    "A_original = nx.to_numpy_array(g)\n",
    "M_original = np.ones(nt) - np.eye(nt)\n",
    "X_original = np.random.rand(A_original.shape[0],d)\n"
   ]
  },
  {
   "cell_type": "code",
   "execution_count": 30,
   "metadata": {
    "ExecuteTime": {
     "end_time": "2024-05-23T02:00:27.921021Z",
     "start_time": "2024-05-23T01:58:34.317149Z"
    }
   },
   "outputs": [
    {
     "name": "stdout",
     "output_type": "stream",
     "text": [
      "Running Coordinate descent\n",
      "Iteracion: 0 | Error relativo: 0.9993587639152381 | norma R: 820.7838397344846\n",
      "Iteracion: 1 | Error relativo: 0.2202982195475419 | norma R: 1231.457354704782\n",
      "Iteracion: 2 | Error relativo: 0.020307316761306347 | norma R: 1223.043659412023\n",
      "Iteracion: 3 | Error relativo: 0.0065524517174043225 | norma R: 1224.4571459170697\n",
      "Iteracion: 4 | Error relativo: 0.003486893224550271 | norma R: 1227.8575649669979\n",
      "Iteracion: 5 | Error relativo: 0.002143251519924549 | norma R: 1229.7160212370725\n",
      "Iteracion: 6 | Error relativo: 0.0014122257832418412 | norma R: 1230.7988037230825\n",
      "Iteracion: 7 | Error relativo: 0.0009731095354040669 | norma R: 1231.5560948684442\n",
      "Iteracion: 8 | Error relativo: 0.0006941238522181683 | norma R: 1232.0994902480584\n",
      "Iteracion: 9 | Error relativo: 0.0005098018131667652 | norma R: 1232.4957839764986\n",
      "Iteracion: 10 | Error relativo: 0.00038409331233431077 | norma R: 1232.7926971089869\n",
      "Iteracion: 11 | Error relativo: 0.00029596366395248647 | norma R: 1233.0204304590054\n",
      "Iteracion: 12 | Error relativo: 0.0002326369693370962 | norma R: 1233.1985843115724\n",
      "Iteracion: 13 | Error relativo: 0.0001861045175976375 | norma R: 1233.3404286771781\n",
      "Iteracion: 14 | Error relativo: 0.00015120987571307266 | norma R: 1233.4551533314807\n",
      "Iteracion: 15 | Error relativo: 0.00012455195063402943 | norma R: 1233.5492473947952\n",
      "Iteracion: 16 | Error relativo: 0.00010383656090620965 | norma R: 1233.6273816511712\n",
      "Iteracion: 17 | Error relativo: 8.74840298870516e-05 | norma R: 1233.692977113832\n",
      "Iteracion: 18 | Error relativo: 7.438666450971307e-05 | norma R: 1233.748579535272\n",
      "Iteracion: 19 | Error relativo: 6.375545873333836e-05 | norma R: 1233.7961118044598\n",
      "Iteracion: 20 | Error relativo: 5.502076354918046e-05 | norma R: 1233.8370472903146\n",
      "Iteracion: 21 | Error relativo: 4.7766250999242085e-05 | norma R: 1233.872530815536\n",
      "Iteracion: 22 | Error relativo: 4.1683973022972844e-05 | norma R: 1233.9034641992218\n",
      "Iteracion: 23 | Error relativo: 3.6543213328970454e-05 | norma R: 1233.9305673656397\n",
      "Iteracion: 24 | Error relativo: 3.216864488544197e-05 | norma R: 1233.9544223499636\n",
      "Iteracion: 25 | Error relativo: 2.842493638818376e-05 | norma R: 1233.9755052171092\n",
      "Iteracion: 26 | Error relativo: 2.5205899111199108e-05 | norma R: 1233.9942093987945\n",
      "Iteracion: 27 | Error relativo: 2.242683884984449e-05 | norma R: 1234.0108629293873\n",
      "Iteracion: 28 | Error relativo: 2.001918140189864e-05 | norma R: 1234.0257413419306\n",
      "Iteracion: 29 | Error relativo: 1.7926662834411758e-05 | norma R: 1234.0390774705688\n",
      "Iteracion: 30 | Error relativo: 1.6102631924377808e-05 | norma R: 1234.0510690339868\n",
      "Iteracion: 31 | Error relativo: 1.4508079224510665e-05 | norma R: 1234.0618846087123\n",
      "Iteracion: 32 | Error relativo: 1.3110189414835457e-05 | norma R: 1234.071668414311\n",
      "Iteracion: 33 | Error relativo: 1.1881237829353367e-05 | norma R: 1234.0805442030078\n",
      "Iteracion: 34 | Error relativo: 1.0797728620503355e-05 | norma R: 1234.0886184585963\n",
      "Iteracion: 35 | Error relativo: 9.839707872683842e-06 | norma R: 1234.0959830506333\n",
      "Done in  45.424  seconds.\n",
      "\n",
      "Running Scipy SVD\n",
      "Done in  65.22  seconds.\n",
      "\n",
      "Method                        Time (s) \t Cost function ||(A-XX^T)*M||_F^2\n",
      "---------------------------------------------------------------------\n",
      "Coordinate descent             45.424 \t\t 843680.4306225965\n",
      "Scipy                          65.22 \t\t 1046334.4475436633\n"
     ]
    },
    {
     "data": {
      "image/png": "[encoded data removed]",
      "text/plain": [
       "<Figure size 640x480 with 1 Axes>"
      ]
     },
     "metadata": {},
     "output_type": "display_data"
    }
   ],
   "source": [
    "A = A_original.copy()\n",
    "M = M_original.copy()\n",
    "X = X_original.copy()\n",
    "\n",
    "print(\"Running Coordinate descent\")\n",
    "start_cd = timeit.default_timer()\n",
    "(X_cd, errores) = coordinate_descent(A,d)\n",
    "stop_cd = timeit.default_timer()\n",
    "time_cd = round(stop_cd-start_cd,3)\n",
    "print(\"Done in \",time_cd,\" seconds.\\n\")\n",
    "\n",
    "print(\"Running Scipy SVD\")\n",
    "start_scipy = timeit.default_timer()\n",
    "X_scipy = embed_scipy(A,d)\n",
    "stop_scipy = timeit.default_timer()\n",
    "time_scipy = round(stop_scipy-start_scipy,3)\n",
    "print(\"Done in \",time_scipy,\" seconds.\\n\")\n",
    "\n",
    "if gy:\n",
    "    print(\"Running Gaspologic ASE\")\n",
    "    ase = gy.embed.AdjacencySpectralEmbed(n_components=d, diag_aug=True, algorithm='full')\n",
    "    start_gy = timeit.default_timer()\n",
    "    X_gy = ase.fit_transform(A)\n",
    "    stop_gy = timeit.default_timer()\n",
    "    time_gy = round(stop_gy-start_gy,3)\n",
    "    print(\"Done in \",time_gy,\" seconds.\\n\")\n",
    "\n",
    "##%%\n",
    "print(\"Method                        Time (s) \\t Cost function ||(A-XX^T)*M||_F^2\",)\n",
    "print(\"---------------------------------------------------------------------\",)\n",
    "print(\"Coordinate descent            \",time_cd,\"\\t\\t\", cost_function(A,X_cd,M))\n",
    "print(\"Scipy                         \",time_scipy,\"\\t\\t\", cost_function(A,X_scipy,M))\n",
    "if gy: print(\"Graspologic                   \",time_gy,\"\\t\\t\", cost_function(A,X_gy,M))\n",
    "\n",
    "plt.plot(errores)\n",
    "plt.yscale('log')\n",
    "x_star = X_cd"
   ]
  },
  {
   "cell_type": "markdown",
   "metadata": {},
   "source": [
    "### Tercera idea\n",
    "\n",
    "Luego de la reunion con Ernesto el 18/4, se propuso la idea de intentar ver si varios hilos calculan cada iteracion utilizando como regiones criticas la actualizacion de R.\n",
    "\n",
    "En mi opinion tambien se deberia poner la linea \" X[i,:] = solve_linear_system(R,(A[i,:]@X).T,X[i,:]) \" como zona critica, ya que se consume R, pero en caso de hacer eso no tiene sentido papralelizar.\n",
    "\n",
    "IMPORTANTE: Probe sin el mutex y tambien funciona, no entiendo muy bien como.\n",
    "\n"
   ]
  },
  {
   "cell_type": "code",
   "execution_count": 3,
   "metadata": {
    "ExecuteTime": {
     "end_time": "2024-05-23T03:20:30.324686Z",
     "start_time": "2024-05-23T03:20:30.322933Z"
    }
   },
   "outputs": [],
   "source": [
    "import threading"
   ]
  },
  {
   "cell_type": "markdown",
   "metadata": {},
   "source": [
    "## Implementamos el metodo, utilizando varios hilos"
   ]
  },
  {
   "cell_type": "code",
   "execution_count": 23,
   "metadata": {
    "ExecuteTime": {
     "end_time": "2024-05-23T04:16:47.801140Z",
     "start_time": "2024-05-23T04:16:47.792500Z"
    }
   },
   "outputs": [],
   "source": [
    "\n",
    "lock_R = threading.Lock()\n",
    "\n",
    "def coordinate_descent_MODIFICADO_3_per_thread(i, seriales):\n",
    "    global X\n",
    "    global R\n",
    "    global A\n",
    "    global finish\n",
    "    global barrier_descent\n",
    "    \n",
    "    while not finish:     \n",
    "        \n",
    "        if seriales:\n",
    "            with lock_R as l:\n",
    "                k=X[i,:][np.newaxis]  #(fila i)^t . (fila i)\n",
    "                R -= k.T@k\n",
    "                sol = solve_linear_system(R,(A[i,:]@X).T,X[i,:])\n",
    "            \n",
    "                X[i,:] = sol\n",
    "                k=X[i,:][np.newaxis]\n",
    "            \n",
    "                R += k.T@k\n",
    "            barrier_descent.wait()\n",
    "\n",
    "        else:\n",
    "            k=X[i,:][np.newaxis]  #(fila i)^t . (fila i)\n",
    "            R -= k.T@k\n",
    "            sol = solve_linear_system(R,(A[i,:]@X).T,X[i,:])\n",
    "        \n",
    "            X[i,:] = sol\n",
    "            k=X[i,:][np.newaxis]\n",
    "        \n",
    "            R += k.T@k\n",
    "            barrier_descent.wait()\n",
    "    \n",
    "\n",
    "def update_finish_descent(max_iteraciones, tolerancia):\n",
    "    def ineer_update():\n",
    "        global finish \n",
    "        global fold\n",
    "        global err_current_iteracion_decent\n",
    "        global X\n",
    "        global R\n",
    "        global A\n",
    "        global M\n",
    "        global iter\n",
    "        \n",
    "        finish = not ((max_iteraciones is None or iter < max_iteraciones) and abs((fold - cost_function(A, X, M)) / fold) > tolerancia)\n",
    "        err_current_iteracion_decent = abs((fold - cost_function(A, X, M))/fold)\n",
    "        fold = cost_function(A, X, M)\n",
    "        \n",
    "    \n",
    "    return  ineer_update\n",
    "\n",
    "\n",
    "def coordinate_descent_MODIFICADO_3(max_iteraciones, calculoSerial=False, tol=1e-5):\n",
    "    global X\n",
    "    global R\n",
    "    global A\n",
    "\n",
    "    global lock_R\n",
    "    lock_R = threading.Lock()\n",
    "\n",
    "    n=A.shape[0]\n",
    "    M = np.ones(n) - np.eye(n)\n",
    "    R = X.T@X\n",
    "    \n",
    "    global fold\n",
    "    fold = -1\n",
    "    \n",
    "    global barrier_descent\n",
    "    barrier_descent = threading.Barrier(n + 1, action=update_finish_descent(max_iteraciones, tol))\n",
    "\n",
    "    errores = []\n",
    "    \n",
    "    global finish\n",
    "    finish = False\n",
    "    \n",
    "    ths = []\n",
    "    for i in range(n):\n",
    "        ths.append(threading.Thread(target = coordinate_descent_MODIFICADO_3_per_thread, args = (i,calculoSerial,)))\n",
    "\n",
    "    for i in range(n):            \n",
    "        ths[i].start()    \n",
    "\n",
    "    global err_current_iteracion_decent\n",
    "    err_current_iteracion_decent = 0\n",
    "\n",
    "\n",
    "    global iter\n",
    "    iter = 0\n",
    "    while not finish:            \n",
    "        barrier_descent.wait()\n",
    "           \n",
    "        errores.append(err_current_iteracion_decent)\n",
    "        iter +=1\n",
    "        print(\"Iteracion: \" + str(iter) + \" | Error: \" + str(err_current_iteracion_decent) + \" | norma R: \" + str(la.norm(R)))\n",
    "\n",
    "    return (X, errores)"
   ]
  },
  {
   "cell_type": "markdown",
   "metadata": {},
   "source": [
    "#### Llamada al metodo, utilizando calculo paralelo (Maximo 51 iteraciones)"
   ]
  },
  {
   "cell_type": "code",
   "execution_count": 18,
   "metadata": {
    "ExecuteTime": {
     "end_time": "2024-05-23T04:16:51.354977Z",
     "start_time": "2024-05-23T04:16:51.333309Z"
    }
   },
   "outputs": [
    {
     "name": "stdout",
     "output_type": "stream",
     "text": [
      "Running Coordinate descent Modificado 3\n",
      "Iteracion: 1 | Error: 1120505.991680267 | norma R: 614.9728376142538\n",
      "Iteracion: 2 | Error: 2.085490141108943 | norma R: 1212.961618437866\n",
      "Iteracion: 3 | Error: 5.209377747389842 | norma R: 6876.157795472736\n",
      "Iteracion: 4 | Error: 4.095768685414339 | norma R: 11039.35066668524\n",
      "Iteracion: 5 | Error: 0.6896408298650576 | norma R: 3359.8579004728927\n",
      "Iteracion: 6 | Error: 0.7603839850650769 | norma R: 4284.04139382916\n",
      "Iteracion: 7 | Error: 2.8516873688059166 | norma R: 6501.535071514837\n",
      "Iteracion: 8 | Error: 0.5606041636030464 | norma R: 5590.163081681298\n",
      "Iteracion: 9 | Error: 0.21138574894047427 | norma R: 3580.7119557571527\n",
      "Iteracion: 10 | Error: 1.882099746788928 | norma R: 3595.7559450793174\n",
      "Iteracion: 11 | Error: 0.1485220022570124 | norma R: 7614.220060282272\n",
      "Iteracion: 12 | Error: 0.572385089210339 | norma R: 4236.7884722698545\n",
      "Iteracion: 13 | Error: 0.5642303108183251 | norma R: 978.4204463963238\n",
      "Iteracion: 14 | Error: 0.42095960871878163 | norma R: 3203.60274833936\n",
      "Iteracion: 15 | Error: 0.2617180931603968 | norma R: 3008.2510277852016\n",
      "Iteracion: 16 | Error: 83.32528300677906 | norma R: 14765.993184270845\n",
      "Iteracion: 17 | Error: 0.9746586215833766 | norma R: 3743.424588524862\n",
      "Iteracion: 18 | Error: 0.510138246956562 | norma R: 1347.6187784061785\n",
      "Iteracion: 19 | Error: 0.4487738220650711 | norma R: 1415.680768168829\n",
      "Iteracion: 20 | Error: 4.808266411267661 | norma R: 5214.13561399757\n",
      "Iteracion: 21 | Error: 0.7773003317973924 | norma R: 2485.8459813438044\n",
      "Iteracion: 22 | Error: 0.7526020812469622 | norma R: 4291.787901420668\n",
      "Iteracion: 23 | Error: 0.7021019133993883 | norma R: 1108.5960055182536\n",
      "Iteracion: 24 | Error: 0.20512981013352236 | norma R: 2084.454353209002\n",
      "Iteracion: 25 | Error: 0.626773476397795 | norma R: 3291.150184478547\n",
      "Iteracion: 26 | Error: 0.0853221780495012 | norma R: 2806.375762720073\n",
      "Iteracion: 27 | Error: 0.16555974462221743 | norma R: 2568.542136037472\n",
      "Iteracion: 28 | Error: 0.016224899462657396 | norma R: 3331.241874291446\n",
      "Iteracion: 29 | Error: 0.041061633395969875 | norma R: 1523.4154931922624\n",
      "Iteracion: 30 | Error: 0.5413308916496222 | norma R: 1684.6716400702965\n",
      "Iteracion: 31 | Error: 0.2973186748037017 | norma R: 3495.45818393778\n",
      "Iteracion: 32 | Error: 2.456164912074716 | norma R: 6034.898967194192\n",
      "Iteracion: 33 | Error: 0.4712754412722923 | norma R: 4164.521134751292\n",
      "Iteracion: 34 | Error: 0.6945717613954535 | norma R: 2506.0188251383383\n",
      "Iteracion: 35 | Error: 0.2642090974984204 | norma R: 3161.4110090264485\n",
      "Iteracion: 36 | Error: 8.641832082755968 | norma R: 7992.729345897966\n",
      "Iteracion: 37 | Error: 2.025796704350142 | norma R: 2835.6055979759826\n",
      "Iteracion: 38 | Error: 0.8761564876840076 | norma R: 4637.333063858356\n",
      "Iteracion: 39 | Error: 0.34714000200320017 | norma R: 3349.276622660737\n",
      "Iteracion: 40 | Error: 0.028893257427526242 | norma R: 1196.1117279188422\n",
      "Iteracion: 41 | Error: 0.4753093055477332 | norma R: 2316.9903020700967\n",
      "Iteracion: 42 | Error: 0.027828351845801437 | norma R: 947.6150716353238\n",
      "Iteracion: 43 | Error: 2.9230925057735564 | norma R: 5648.70671070273\n",
      "Iteracion: 44 | Error: 0.4563125685433933 | norma R: 3490.865838940224\n",
      "Iteracion: 45 | Error: 0.42462405182557217 | norma R: 4883.0824609196825\n",
      "Iteracion: 46 | Error: 0.1874013975648732 | norma R: 5544.943805367431\n",
      "Iteracion: 47 | Error: 0.720146317724224 | norma R: 3351.740963490509\n",
      "Iteracion: 48 | Error: 0.3609297808983316 | norma R: 2873.9170717884886\n",
      "Iteracion: 49 | Error: 0.5897161525476763 | norma R: 3255.5626461469296\n",
      "Iteracion: 50 | Error: 0.2932153024125042 | norma R: 1696.5620460339896\n",
      "Iteracion: 51 | Error: 0.2685865408558573 | norma R: 2698.141920267413\n",
      "Done in  81.766  seconds.\n",
      "\n"
     ]
    },
    {
     "data": {
      "image/png": "[encoded data removed]",
      "text/plain": [
       "<Figure size 640x480 with 1 Axes>"
      ]
     },
     "metadata": {},
     "output_type": "display_data"
    }
   ],
   "source": [
    "\n",
    "nt=np.sum(n_list)\n",
    "\n",
    "A = A_original.copy()\n",
    "M = M_original.copy()\n",
    "X = X_original.copy()\n",
    "\n",
    "print(\"Running Coordinate descent Modificado 3 (PARALELO)\")\n",
    "start_cd = timeit.default_timer()\n",
    "(X_cd_S, errores) = coordinate_descent_MODIFICADO_3(50)\n",
    "stop_cd = timeit.default_timer()\n",
    "time_cd = round(stop_cd-start_cd,3)\n",
    "print(\"Done in \",time_cd,\" seconds.\\n\")\n",
    "\n",
    "plt.plot(errores)\n",
    "plt.yscale('log')\n",
    "plt.show()"
   ]
  },
  {
   "cell_type": "markdown",
   "metadata": {},
   "source": [
    "#### Llamada al metodo, NO paralelo"
   ]
  },
  {
   "cell_type": "code",
   "execution_count": 24,
   "metadata": {},
   "outputs": [
    {
     "name": "stdout",
     "output_type": "stream",
     "text": [
      "Running Coordinate descent Modificado 3 (SERIAL)\n",
      "Iteracion: 1 | Error: 1136278.7651604614 | norma R: 803.3189018612802\n",
      "Iteracion: 2 | Error: 0.2266469806301112 | norma R: 1247.9968849234333\n",
      "Iteracion: 3 | Error: 0.021926742422922748 | norma R: 1220.7340602398551\n",
      "Iteracion: 4 | Error: 0.006691470731023458 | norma R: 1225.0094256860586\n",
      "Iteracion: 5 | Error: 0.0037518092539354426 | norma R: 1228.5713548753022\n",
      "Iteracion: 6 | Error: 0.0022902309466803733 | norma R: 1230.0315647785617\n",
      "Iteracion: 7 | Error: 0.0015246476346859245 | norma R: 1231.1505012625178\n",
      "Iteracion: 8 | Error: 0.0010683321794440293 | norma R: 1231.947961966095\n",
      "Iteracion: 9 | Error: 0.000774220729484987 | norma R: 1232.4848489834385\n",
      "Iteracion: 10 | Error: 0.0005606422553272001 | norma R: 1232.4591785706414\n",
      "Iteracion: 11 | Error: 0.00040572954143861716 | norma R: 1233.1063623129394\n",
      "Iteracion: 12 | Error: 0.0003425040877508262 | norma R: 1233.3928427647024\n",
      "Iteracion: 13 | Error: 0.0002743061097457088 | norma R: 1233.585712463057\n",
      "Iteracion: 14 | Error: 0.00022207231071904454 | norma R: 1233.7496103392298\n",
      "Iteracion: 15 | Error: 0.00018168818646070056 | norma R: 1233.8905889460414\n",
      "Iteracion: 16 | Error: 0.00014676662031616955 | norma R: 1233.9925791953276\n",
      "Iteracion: 17 | Error: 0.00012587150256747153 | norma R: 1234.0928599667152\n",
      "Iteracion: 18 | Error: 0.00010630923886081303 | norma R: 1234.1809428707934\n",
      "Iteracion: 19 | Error: 8.548694829738682e-05 | norma R: 1234.2354492148881\n",
      "Iteracion: 20 | Error: 7.550592000343018e-05 | norma R: 1234.2953379880776\n",
      "Iteracion: 21 | Error: 6.53743364828532e-05 | norma R: 1234.3412285989668\n",
      "Iteracion: 22 | Error: 5.7584678799826227e-05 | norma R: 1234.3820731091307\n",
      "Iteracion: 23 | Error: 5.025417536858497e-05 | norma R: 1234.4209463014604\n",
      "Iteracion: 24 | Error: 4.380742965013005e-05 | norma R: 1234.4506960688407\n",
      "Iteracion: 25 | Error: 3.905920960407274e-05 | norma R: 1234.4746257646377\n",
      "Iteracion: 26 | Error: 3.475790350102195e-05 | norma R: 1234.5078604639784\n",
      "Iteracion: 27 | Error: 3.100381102516749e-05 | norma R: 1234.5316365283625\n",
      "Iteracion: 28 | Error: 2.7611270646010798e-05 | norma R: 1234.5497529330423\n",
      "Iteracion: 29 | Error: 2.492751775912246e-05 | norma R: 1234.5694400950276\n",
      "Iteracion: 30 | Error: 2.173517973782709e-05 | norma R: 1234.5821407972899\n",
      "Iteracion: 31 | Error: 2.0166693903057084e-05 | norma R: 1234.5938343268124\n",
      "Iteracion: 32 | Error: 1.8206908841127083e-05 | norma R: 1234.607832743301\n",
      "Iteracion: 33 | Error: 1.6822764561695346e-05 | norma R: 1234.6212855635133\n",
      "Iteracion: 34 | Error: 1.5538257634819287e-05 | norma R: 1234.6358462908702\n",
      "Iteracion: 35 | Error: 1.4136736266108294e-05 | norma R: 1234.641736516509\n",
      "Iteracion: 36 | Error: 1.2997665188929952e-05 | norma R: 1234.6514964800037\n",
      "Iteracion: 37 | Error: 1.2114098525613398e-05 | norma R: 1234.6630864721553\n",
      "Iteracion: 38 | Error: 1.1049956874141587e-05 | norma R: 1234.6701568991048\n",
      "Iteracion: 39 | Error: 1.0322359227741932e-05 | norma R: 1234.6781508034928\n",
      "Iteracion: 40 | Error: 9.540536643955168e-06 | norma R: 1234.6835813393584\n",
      "Done in  133.456  seconds.\n",
      "\n"
     ]
    },
    {
     "data": {
      "image/png": "[encoded data removed]",
      "text/plain": [
       "<Figure size 640x480 with 1 Axes>"
      ]
     },
     "metadata": {},
     "output_type": "display_data"
    }
   ],
   "source": [
    "nt=np.sum(n_list)\n",
    "\n",
    "A = A_original.copy()\n",
    "M = M_original.copy()\n",
    "X = X_original.copy()\n",
    "\n",
    "g = nx.stochastic_block_model(n_list,p1)\n",
    "\n",
    "\n",
    "print(\"Running Coordinate descent Modificado 3 (SERIAL)\")\n",
    "start_cd = timeit.default_timer()\n",
    "(X_cd_S, errores) = coordinate_descent_MODIFICADO_3(50, True)\n",
    "stop_cd = timeit.default_timer()\n",
    "time_cd = round(stop_cd-start_cd,3)\n",
    "print(\"Done in \",time_cd,\" seconds.\\n\")\n",
    "\n",
    "plt.plot(errores)\n",
    "plt.yscale('log')\n",
    "plt.show()"
   ]
  }
 ],
 "metadata": {
  "kernelspec": {
   "display_name": "Python 3",
   "language": "python",
   "name": "python3"
  },
  "language_info": {
   "codemirror_mode": {
    "name": "ipython",
    "version": 3
   },
   "file_extension": ".py",
   "mimetype": "text/x-python",
   "name": "python",
   "nbconvert_exporter": "python",
   "pygments_lexer": "ipython3",
   "version": "3.11.6"
  }
 },
 "nbformat": 4,
 "nbformat_minor": 2
}
